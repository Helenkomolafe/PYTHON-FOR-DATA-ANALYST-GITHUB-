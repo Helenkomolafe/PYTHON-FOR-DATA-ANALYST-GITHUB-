{
 "cells": [
  {
   "cell_type": "markdown",
   "id": "fa3d60dd",
   "metadata": {},
   "source": [
    "# Model Development"
   ]
  },
  {
   "cell_type": "markdown",
   "id": "6c056a88",
   "metadata": {},
   "source": [
    "**Objectives**\n",
    "\n",
    "    Develop prediction models"
   ]
  },
  {
   "cell_type": "markdown",
   "id": "463c85a7",
   "metadata": {},
   "source": [
    "In data analytics, we often use Model Development to help us predict future observations from the data we have.\n",
    "\n",
    "A model will help us understand the exact relationship between different variables and how these variables are used to predict the result.\n",
    "\n"
   ]
  },
  {
   "cell_type": "markdown",
   "id": "a9634a66",
   "metadata": {},
   "source": [
    "**Setup**\n",
    "\n",
    "Import libraries:"
   ]
  },
  {
   "cell_type": "code",
   "execution_count": 1,
   "id": "cd677b32",
   "metadata": {},
   "outputs": [
    {
     "name": "stderr",
     "output_type": "stream",
     "text": [
      "'mamba' is not recognized as an internal or external command,\n",
      "operable program or batch file.\n",
      "'mamba' is not recognized as an internal or external command,\n",
      "operable program or batch file.\n",
      "'mamba' is not recognized as an internal or external command,\n",
      "operable program or batch file.\n"
     ]
    }
   ],
   "source": [
    "#install specific version of libraries used in lab\n",
    "!mamba install pandas==1.3.3-y\n",
    "!mamba install numpy=1.21.2-y\n",
    "!mamba install sklearn=0.20.1-y"
   ]
  },
  {
   "cell_type": "code",
   "execution_count": null,
   "id": "22ac2900",
   "metadata": {},
   "outputs": [],
   "source": [
    "import piplite\n",
    "await piplite.install('seaborn')"
   ]
  },
  {
   "cell_type": "code",
   "execution_count": 2,
   "id": "69cdc364",
   "metadata": {},
   "outputs": [],
   "source": [
    "import pandas as pd\n",
    "import numpy as np\n",
    "import matplotlib.pyplot as plt"
   ]
  },
  {
   "cell_type": "markdown",
   "id": "6de7a46d",
   "metadata": {},
   "source": [
    "Load the data and store it in dataframe df:\n",
    "\n",
    "This dataset was hosted on IBM Cloud object. Click HERE for free storage. Download it by running the cell below."
   ]
  },
  {
   "cell_type": "code",
   "execution_count": 3,
   "id": "8c9e2c39",
   "metadata": {},
   "outputs": [],
   "source": [
    "filepath = \"https://cf-courses-data.s3.us.cloud-object-storage.appdomain.cloud/IBMDeveloperSkillsNetwork-DA0101EN-SkillsNetwork/labs/Data%20files/automobileEDA.csv\"\n",
    "df = pd.read_csv(filepath, header=None)"
   ]
  },
  {
   "cell_type": "code",
   "execution_count": 4,
   "id": "7bdaad21",
   "metadata": {},
   "outputs": [
    {
     "data": {
      "text/html": [
       "<div>\n",
       "<style scoped>\n",
       "    .dataframe tbody tr th:only-of-type {\n",
       "        vertical-align: middle;\n",
       "    }\n",
       "\n",
       "    .dataframe tbody tr th {\n",
       "        vertical-align: top;\n",
       "    }\n",
       "\n",
       "    .dataframe thead th {\n",
       "        text-align: right;\n",
       "    }\n",
       "</style>\n",
       "<table border=\"1\" class=\"dataframe\">\n",
       "  <thead>\n",
       "    <tr style=\"text-align: right;\">\n",
       "      <th></th>\n",
       "      <th>symboling</th>\n",
       "      <th>normalized-losses</th>\n",
       "      <th>make</th>\n",
       "      <th>aspiration</th>\n",
       "      <th>num-of-doors</th>\n",
       "      <th>body-style</th>\n",
       "      <th>drive-wheels</th>\n",
       "      <th>engine-location</th>\n",
       "      <th>wheel-base</th>\n",
       "      <th>length</th>\n",
       "      <th>...</th>\n",
       "      <th>compression-ratio</th>\n",
       "      <th>horsepower</th>\n",
       "      <th>peak-rpm</th>\n",
       "      <th>city-mpg</th>\n",
       "      <th>highway-mpg</th>\n",
       "      <th>price</th>\n",
       "      <th>city-L/100km</th>\n",
       "      <th>horsepower-binned</th>\n",
       "      <th>diesel</th>\n",
       "      <th>gas</th>\n",
       "    </tr>\n",
       "  </thead>\n",
       "  <tbody>\n",
       "    <tr>\n",
       "      <th>0</th>\n",
       "      <td>3</td>\n",
       "      <td>122</td>\n",
       "      <td>alfa-romero</td>\n",
       "      <td>std</td>\n",
       "      <td>two</td>\n",
       "      <td>convertible</td>\n",
       "      <td>rwd</td>\n",
       "      <td>front</td>\n",
       "      <td>88.6</td>\n",
       "      <td>0.811148</td>\n",
       "      <td>...</td>\n",
       "      <td>9.0</td>\n",
       "      <td>111.0</td>\n",
       "      <td>5000.0</td>\n",
       "      <td>21</td>\n",
       "      <td>27</td>\n",
       "      <td>13495.0</td>\n",
       "      <td>11.190476</td>\n",
       "      <td>Medium</td>\n",
       "      <td>0</td>\n",
       "      <td>1</td>\n",
       "    </tr>\n",
       "    <tr>\n",
       "      <th>1</th>\n",
       "      <td>3</td>\n",
       "      <td>122</td>\n",
       "      <td>alfa-romero</td>\n",
       "      <td>std</td>\n",
       "      <td>two</td>\n",
       "      <td>convertible</td>\n",
       "      <td>rwd</td>\n",
       "      <td>front</td>\n",
       "      <td>88.6</td>\n",
       "      <td>0.811148</td>\n",
       "      <td>...</td>\n",
       "      <td>9.0</td>\n",
       "      <td>111.0</td>\n",
       "      <td>5000.0</td>\n",
       "      <td>21</td>\n",
       "      <td>27</td>\n",
       "      <td>16500.0</td>\n",
       "      <td>11.190476</td>\n",
       "      <td>Medium</td>\n",
       "      <td>0</td>\n",
       "      <td>1</td>\n",
       "    </tr>\n",
       "    <tr>\n",
       "      <th>2</th>\n",
       "      <td>1</td>\n",
       "      <td>122</td>\n",
       "      <td>alfa-romero</td>\n",
       "      <td>std</td>\n",
       "      <td>two</td>\n",
       "      <td>hatchback</td>\n",
       "      <td>rwd</td>\n",
       "      <td>front</td>\n",
       "      <td>94.5</td>\n",
       "      <td>0.822681</td>\n",
       "      <td>...</td>\n",
       "      <td>9.0</td>\n",
       "      <td>154.0</td>\n",
       "      <td>5000.0</td>\n",
       "      <td>19</td>\n",
       "      <td>26</td>\n",
       "      <td>16500.0</td>\n",
       "      <td>12.368421</td>\n",
       "      <td>Medium</td>\n",
       "      <td>0</td>\n",
       "      <td>1</td>\n",
       "    </tr>\n",
       "    <tr>\n",
       "      <th>3</th>\n",
       "      <td>2</td>\n",
       "      <td>164</td>\n",
       "      <td>audi</td>\n",
       "      <td>std</td>\n",
       "      <td>four</td>\n",
       "      <td>sedan</td>\n",
       "      <td>fwd</td>\n",
       "      <td>front</td>\n",
       "      <td>99.8</td>\n",
       "      <td>0.848630</td>\n",
       "      <td>...</td>\n",
       "      <td>10.0</td>\n",
       "      <td>102.0</td>\n",
       "      <td>5500.0</td>\n",
       "      <td>24</td>\n",
       "      <td>30</td>\n",
       "      <td>13950.0</td>\n",
       "      <td>9.791667</td>\n",
       "      <td>Medium</td>\n",
       "      <td>0</td>\n",
       "      <td>1</td>\n",
       "    </tr>\n",
       "    <tr>\n",
       "      <th>4</th>\n",
       "      <td>2</td>\n",
       "      <td>164</td>\n",
       "      <td>audi</td>\n",
       "      <td>std</td>\n",
       "      <td>four</td>\n",
       "      <td>sedan</td>\n",
       "      <td>4wd</td>\n",
       "      <td>front</td>\n",
       "      <td>99.4</td>\n",
       "      <td>0.848630</td>\n",
       "      <td>...</td>\n",
       "      <td>8.0</td>\n",
       "      <td>115.0</td>\n",
       "      <td>5500.0</td>\n",
       "      <td>18</td>\n",
       "      <td>22</td>\n",
       "      <td>17450.0</td>\n",
       "      <td>13.055556</td>\n",
       "      <td>Medium</td>\n",
       "      <td>0</td>\n",
       "      <td>1</td>\n",
       "    </tr>\n",
       "  </tbody>\n",
       "</table>\n",
       "<p>5 rows × 29 columns</p>\n",
       "</div>"
      ],
      "text/plain": [
       "   symboling  normalized-losses         make aspiration num-of-doors  \\\n",
       "0          3                122  alfa-romero        std          two   \n",
       "1          3                122  alfa-romero        std          two   \n",
       "2          1                122  alfa-romero        std          two   \n",
       "3          2                164         audi        std         four   \n",
       "4          2                164         audi        std         four   \n",
       "\n",
       "    body-style drive-wheels engine-location  wheel-base    length  ...  \\\n",
       "0  convertible          rwd           front        88.6  0.811148  ...   \n",
       "1  convertible          rwd           front        88.6  0.811148  ...   \n",
       "2    hatchback          rwd           front        94.5  0.822681  ...   \n",
       "3        sedan          fwd           front        99.8  0.848630  ...   \n",
       "4        sedan          4wd           front        99.4  0.848630  ...   \n",
       "\n",
       "   compression-ratio  horsepower  peak-rpm city-mpg highway-mpg    price  \\\n",
       "0                9.0       111.0    5000.0       21          27  13495.0   \n",
       "1                9.0       111.0    5000.0       21          27  16500.0   \n",
       "2                9.0       154.0    5000.0       19          26  16500.0   \n",
       "3               10.0       102.0    5500.0       24          30  13950.0   \n",
       "4                8.0       115.0    5500.0       18          22  17450.0   \n",
       "\n",
       "  city-L/100km  horsepower-binned  diesel  gas  \n",
       "0    11.190476             Medium       0    1  \n",
       "1    11.190476             Medium       0    1  \n",
       "2    12.368421             Medium       0    1  \n",
       "3     9.791667             Medium       0    1  \n",
       "4    13.055556             Medium       0    1  \n",
       "\n",
       "[5 rows x 29 columns]"
      ]
     },
     "execution_count": 4,
     "metadata": {},
     "output_type": "execute_result"
    }
   ],
   "source": [
    "df = pd.read_csv(filepath)\n",
    "df.head()"
   ]
  },
  {
   "cell_type": "markdown",
   "id": "c5093991",
   "metadata": {},
   "source": [
    "# 1. Linear Regression and Multiple Linear Regression"
   ]
  },
  {
   "cell_type": "markdown",
   "id": "851ea7ce",
   "metadata": {},
   "source": [
    "\n",
    "**Linear Regression**"
   ]
  },
  {
   "cell_type": "markdown",
   "id": "83997709",
   "metadata": {},
   "source": [
    "    One example of a Data Model that we will be using is:\n",
    "\n",
    "    **Simple Linear Regression**\n",
    "\n",
    "    Simple Linear Regression is a method to help us understand the relationship between two variables:\n",
    "\n",
    "        The predictor/independent variable (X)\n",
    "    \n",
    "        The response/dependent variable (that we want to predict)(Y)\n",
    "    \n",
    "     The result of **Linear Regression** is a linear function that predicts the response (dependent) variable as a function         of the predictor (independent) variable."
   ]
  },
  {
   "cell_type": "code",
   "execution_count": null,
   "id": "5bbb9462",
   "metadata": {},
   "outputs": [],
   "source": [
    "                                                           𝑌:𝑅𝑒𝑠𝑝𝑜𝑛𝑠𝑒 𝑉𝑎𝑟𝑖𝑎𝑏𝑙𝑒\n",
    "                                                           𝑋:𝑃𝑟𝑒𝑑𝑖𝑐𝑡𝑜𝑟 𝑉𝑎𝑟𝑖𝑎𝑏𝑙𝑒𝑠"
   ]
  },
  {
   "cell_type": "markdown",
   "id": "1c8c5bbe",
   "metadata": {},
   "source": [
    "**Linear Function**\n",
    "                                                           \n",
    "                                                           𝑌ℎ𝑎𝑡=𝑎+𝑏𝑋"
   ]
  },
  {
   "cell_type": "markdown",
   "id": "8d644203",
   "metadata": {},
   "source": [
    "  -a refers to the **intercept** of the regression line, in other words: the value of Y when X is 0\n",
    "   \n",
    "  -b refers to the **slope** of the regression line, in other words: the value with which Y changes when X increases by 1 unit"
   ]
  },
  {
   "cell_type": "markdown",
   "id": "90f4a42a",
   "metadata": {},
   "source": [
    "**Let's load the modules for linear regression:**"
   ]
  },
  {
   "cell_type": "code",
   "execution_count": 5,
   "id": "e6369488",
   "metadata": {},
   "outputs": [],
   "source": [
    "from sklearn.linear_model import LinearRegression"
   ]
  },
  {
   "cell_type": "markdown",
   "id": "d93dc1ec",
   "metadata": {},
   "source": [
    "**Create the linear regression object:**"
   ]
  },
  {
   "cell_type": "code",
   "execution_count": 6,
   "id": "e7e9e4c7",
   "metadata": {},
   "outputs": [
    {
     "data": {
      "text/plain": [
       "LinearRegression()"
      ]
     },
     "execution_count": 6,
     "metadata": {},
     "output_type": "execute_result"
    }
   ],
   "source": [
    "lm = LinearRegression()\n",
    "lm"
   ]
  },
  {
   "cell_type": "markdown",
   "id": "76b347ac",
   "metadata": {},
   "source": [
    "**How could \"highway-mpg\" help us predict car price?**\n",
    "\n",
    "For this example, we want to look at how highway-mpg can help us predict car price. Using simple linear regression, we will create a linear function with \"highway-mpg\" as the predictor variable and the \"price\" as the response variable."
   ]
  },
  {
   "cell_type": "code",
   "execution_count": 7,
   "id": "82d28bfa",
   "metadata": {},
   "outputs": [],
   "source": [
    "X = df[['highway-mpg']]\n",
    "Y = df['price']"
   ]
  },
  {
   "cell_type": "markdown",
   "id": "41567424",
   "metadata": {},
   "source": [
    "Fit the linear model using highway-mpg:"
   ]
  },
  {
   "cell_type": "code",
   "execution_count": 8,
   "id": "008527bb",
   "metadata": {},
   "outputs": [
    {
     "data": {
      "text/plain": [
       "LinearRegression()"
      ]
     },
     "execution_count": 8,
     "metadata": {},
     "output_type": "execute_result"
    }
   ],
   "source": [
    "lm.fit(X,Y)"
   ]
  },
  {
   "cell_type": "markdown",
   "id": "4088a95f",
   "metadata": {},
   "source": [
    "We can output a prediction:"
   ]
  },
  {
   "cell_type": "code",
   "execution_count": 9,
   "id": "0df9eaed",
   "metadata": {},
   "outputs": [
    {
     "data": {
      "text/plain": [
       "array([16236.50464347, 16236.50464347, 17058.23802179, 13771.3045085 ,\n",
       "       20345.17153508])"
      ]
     },
     "execution_count": 9,
     "metadata": {},
     "output_type": "execute_result"
    }
   ],
   "source": [
    "Yhat=lm.predict(X)\n",
    "Yhat[0:5]   "
   ]
  },
  {
   "cell_type": "markdown",
   "id": "c74a6a4e",
   "metadata": {},
   "source": [
    "**What is the value of the intercept (a)?¶**"
   ]
  },
  {
   "cell_type": "code",
   "execution_count": 10,
   "id": "1e6ecfea",
   "metadata": {},
   "outputs": [
    {
     "data": {
      "text/plain": [
       "38423.305858157386"
      ]
     },
     "execution_count": 10,
     "metadata": {},
     "output_type": "execute_result"
    }
   ],
   "source": [
    "lm.intercept_"
   ]
  },
  {
   "cell_type": "markdown",
   "id": "1fde4e63",
   "metadata": {},
   "source": [
    "**What is the value of the slope (b)?**"
   ]
  },
  {
   "cell_type": "code",
   "execution_count": 11,
   "id": "f8301ad8",
   "metadata": {},
   "outputs": [
    {
     "data": {
      "text/plain": [
       "array([-821.73337832])"
      ]
     },
     "execution_count": 11,
     "metadata": {},
     "output_type": "execute_result"
    }
   ],
   "source": [
    "lm.coef_"
   ]
  },
  {
   "cell_type": "markdown",
   "id": "2d40fccb",
   "metadata": {},
   "source": [
    "**What is the final estimated linear model we get?**"
   ]
  },
  {
   "cell_type": "markdown",
   "id": "78d193e5",
   "metadata": {},
   "source": [
    "As we saw above, we should get a final linear model with the structure:"
   ]
  },
  {
   "cell_type": "code",
   "execution_count": null,
   "id": "046d7f48",
   "metadata": {},
   "outputs": [],
   "source": [
    "                                                        𝑌ℎ𝑎𝑡=𝑎+𝑏𝑋"
   ]
  },
  {
   "cell_type": "code",
   "execution_count": null,
   "id": "972ac9e0",
   "metadata": {},
   "outputs": [],
   "source": [
    "\n",
    "Plugging in the actual values we get:"
   ]
  },
  {
   "cell_type": "markdown",
   "id": "56c1a861",
   "metadata": {},
   "source": [
    "**Price** = 38423.31 - 821.73 x **highway-mpg**"
   ]
  },
  {
   "cell_type": "code",
   "execution_count": 13,
   "id": "e79b1f6b",
   "metadata": {},
   "outputs": [
    {
     "data": {
      "text/html": [
       "<div>\n",
       "<style scoped>\n",
       "    .dataframe tbody tr th:only-of-type {\n",
       "        vertical-align: middle;\n",
       "    }\n",
       "\n",
       "    .dataframe tbody tr th {\n",
       "        vertical-align: top;\n",
       "    }\n",
       "\n",
       "    .dataframe thead th {\n",
       "        text-align: right;\n",
       "    }\n",
       "</style>\n",
       "<table border=\"1\" class=\"dataframe\">\n",
       "  <thead>\n",
       "    <tr style=\"text-align: right;\">\n",
       "      <th></th>\n",
       "      <th>highway-mpg</th>\n",
       "    </tr>\n",
       "  </thead>\n",
       "  <tbody>\n",
       "    <tr>\n",
       "      <th>0</th>\n",
       "      <td>27</td>\n",
       "    </tr>\n",
       "    <tr>\n",
       "      <th>1</th>\n",
       "      <td>27</td>\n",
       "    </tr>\n",
       "    <tr>\n",
       "      <th>2</th>\n",
       "      <td>26</td>\n",
       "    </tr>\n",
       "    <tr>\n",
       "      <th>3</th>\n",
       "      <td>30</td>\n",
       "    </tr>\n",
       "    <tr>\n",
       "      <th>4</th>\n",
       "      <td>22</td>\n",
       "    </tr>\n",
       "    <tr>\n",
       "      <th>...</th>\n",
       "      <td>...</td>\n",
       "    </tr>\n",
       "    <tr>\n",
       "      <th>196</th>\n",
       "      <td>28</td>\n",
       "    </tr>\n",
       "    <tr>\n",
       "      <th>197</th>\n",
       "      <td>25</td>\n",
       "    </tr>\n",
       "    <tr>\n",
       "      <th>198</th>\n",
       "      <td>23</td>\n",
       "    </tr>\n",
       "    <tr>\n",
       "      <th>199</th>\n",
       "      <td>27</td>\n",
       "    </tr>\n",
       "    <tr>\n",
       "      <th>200</th>\n",
       "      <td>25</td>\n",
       "    </tr>\n",
       "  </tbody>\n",
       "</table>\n",
       "<p>201 rows × 1 columns</p>\n",
       "</div>"
      ],
      "text/plain": [
       "     highway-mpg\n",
       "0             27\n",
       "1             27\n",
       "2             26\n",
       "3             30\n",
       "4             22\n",
       "..           ...\n",
       "196           28\n",
       "197           25\n",
       "198           23\n",
       "199           27\n",
       "200           25\n",
       "\n",
       "[201 rows x 1 columns]"
      ]
     },
     "execution_count": 13,
     "metadata": {},
     "output_type": "execute_result"
    }
   ],
   "source": [
    "df[['highway-mpg']]"
   ]
  },
  {
   "cell_type": "code",
   "execution_count": 31,
   "id": "3c83495e",
   "metadata": {},
   "outputs": [
    {
     "name": "stdout",
     "output_type": "stream",
     "text": [
      "     symboling  normalized-losses         make aspiration num-of-doors  \\\n",
      "0            3                122  alfa-romero        std          two   \n",
      "1            3                122  alfa-romero        std          two   \n",
      "2            1                122  alfa-romero        std          two   \n",
      "3            2                164         audi        std         four   \n",
      "4            2                164         audi        std         four   \n",
      "..         ...                ...          ...        ...          ...   \n",
      "196         -1                 95        volvo        std         four   \n",
      "197         -1                 95        volvo      turbo         four   \n",
      "198         -1                 95        volvo        std         four   \n",
      "199         -1                 95        volvo      turbo         four   \n",
      "200         -1                 95        volvo      turbo         four   \n",
      "\n",
      "      body-style drive-wheels engine-location  wheel-base    length  ...  \\\n",
      "0    convertible          rwd           front        88.6  0.811148  ...   \n",
      "1    convertible          rwd           front        88.6  0.811148  ...   \n",
      "2      hatchback          rwd           front        94.5  0.822681  ...   \n",
      "3          sedan          fwd           front        99.8  0.848630  ...   \n",
      "4          sedan          4wd           front        99.4  0.848630  ...   \n",
      "..           ...          ...             ...         ...       ...  ...   \n",
      "196        sedan          rwd           front       109.1  0.907256  ...   \n",
      "197        sedan          rwd           front       109.1  0.907256  ...   \n",
      "198        sedan          rwd           front       109.1  0.907256  ...   \n",
      "199        sedan          rwd           front       109.1  0.907256  ...   \n",
      "200        sedan          rwd           front       109.1  0.907256  ...   \n",
      "\n",
      "     horsepower  peak-rpm  city-mpg highway-mpg    price  city-L/100km  \\\n",
      "0         111.0    5000.0        21          27  13495.0     11.190476   \n",
      "1         111.0    5000.0        21          27  16500.0     11.190476   \n",
      "2         154.0    5000.0        19          26  16500.0     12.368421   \n",
      "3         102.0    5500.0        24          30  13950.0      9.791667   \n",
      "4         115.0    5500.0        18          22  17450.0     13.055556   \n",
      "..          ...       ...       ...         ...      ...           ...   \n",
      "196       114.0    5400.0        23          28  16845.0     10.217391   \n",
      "197       160.0    5300.0        19          25  19045.0     12.368421   \n",
      "198       134.0    5500.0        18          23  21485.0     13.055556   \n",
      "199       106.0    4800.0        26          27  22470.0      9.038462   \n",
      "200       114.0    5400.0        19          25  22625.0     12.368421   \n",
      "\n",
      "    horsepower-binned  diesel  gas     Price  \n",
      "0              Medium       0    1  16236.60  \n",
      "1              Medium       0    1  16236.60  \n",
      "2              Medium       0    1  17058.33  \n",
      "3              Medium       0    1  13771.41  \n",
      "4              Medium       0    1  20345.25  \n",
      "..                ...     ...  ...       ...  \n",
      "196            Medium       0    1  15414.87  \n",
      "197              High       0    1  17880.06  \n",
      "198            Medium       0    1  19523.52  \n",
      "199            Medium       1    0  16236.60  \n",
      "200            Medium       0    1  17880.06  \n",
      "\n",
      "[201 rows x 30 columns]\n"
     ]
    }
   ],
   "source": [
    "import pandas as pd\n",
    "\n",
    "# Calculate price for each row based on highway-mpg\n",
    "df['Price'] =38423.31 - 821.73 * df['highway-mpg']\n",
    "\n",
    "print(df)"
   ]
  },
  {
   "cell_type": "markdown",
   "id": "8a48092e",
   "metadata": {},
   "source": [
    "# Question 1 a): \n",
    "Create a linear regression object called \"lm1\"."
   ]
  },
  {
   "cell_type": "code",
   "execution_count": 20,
   "id": "16279914",
   "metadata": {},
   "outputs": [
    {
     "data": {
      "text/plain": [
       "LinearRegression()"
      ]
     },
     "execution_count": 20,
     "metadata": {},
     "output_type": "execute_result"
    }
   ],
   "source": [
    "lm1 = LinearRegression()\n",
    "lm1"
   ]
  },
  {
   "cell_type": "markdown",
   "id": "72942d50",
   "metadata": {},
   "source": [
    "# Question 1 b): \n",
    "Train the model using \"engine-size\" as the independent variable and \"price\" as the dependent variable?"
   ]
  },
  {
   "cell_type": "code",
   "execution_count": 16,
   "id": "46c5016b",
   "metadata": {},
   "outputs": [],
   "source": [
    "X = df[['engine-size']]\n",
    "Y = df['price']"
   ]
  },
  {
   "cell_type": "markdown",
   "id": "db7ea0d3",
   "metadata": {},
   "source": [
    "# Question 1 c):\n",
    "Find the slope and intercept of the model."
   ]
  },
  {
   "cell_type": "code",
   "execution_count": null,
   "id": "0b6af1fa",
   "metadata": {},
   "outputs": [],
   "source": [
    "lm.coef_"
   ]
  },
  {
   "cell_type": "code",
   "execution_count": 23,
   "id": "50fae4ee",
   "metadata": {},
   "outputs": [
    {
     "data": {
      "text/plain": [
       "LinearRegression()"
      ]
     },
     "execution_count": 23,
     "metadata": {},
     "output_type": "execute_result"
    }
   ],
   "source": [
    "lm1.fit(X,Y)"
   ]
  },
  {
   "cell_type": "code",
   "execution_count": 24,
   "id": "ac2d7060",
   "metadata": {},
   "outputs": [
    {
     "data": {
      "text/plain": [
       "array([13728.4631336 , 13728.4631336 , 17399.38347881, 10224.40280408,\n",
       "       14729.62322775])"
      ]
     },
     "execution_count": 24,
     "metadata": {},
     "output_type": "execute_result"
    }
   ],
   "source": [
    "Yhat=lm1.predict(X)\n",
    "Yhat[0:5]   "
   ]
  },
  {
   "cell_type": "markdown",
   "id": "c31b6f46",
   "metadata": {},
   "source": [
    "Slope"
   ]
  },
  {
   "cell_type": "code",
   "execution_count": 25,
   "id": "36a994b7",
   "metadata": {},
   "outputs": [
    {
     "data": {
      "text/plain": [
       "array([166.86001569])"
      ]
     },
     "execution_count": 25,
     "metadata": {},
     "output_type": "execute_result"
    }
   ],
   "source": [
    "lm1.coef_"
   ]
  },
  {
   "cell_type": "markdown",
   "id": "430081a4",
   "metadata": {},
   "source": [
    "Intercept"
   ]
  },
  {
   "cell_type": "code",
   "execution_count": 26,
   "id": "09a24d06",
   "metadata": {},
   "outputs": [
    {
     "data": {
      "text/plain": [
       "-7963.338906281049"
      ]
     },
     "execution_count": 26,
     "metadata": {},
     "output_type": "execute_result"
    }
   ],
   "source": [
    "lm1.intercept_"
   ]
  },
  {
   "cell_type": "markdown",
   "id": "5dc5c3ce",
   "metadata": {},
   "source": [
    "# Question 1 d): \n",
    "What is the equation of the predicted line? You can use x and yhat or \"engine-size\" or \"price\".\n",
    "\n",
    "Write your code below and press Shift+Enter to execute "
   ]
  },
  {
   "cell_type": "code",
   "execution_count": 27,
   "id": "d2481342",
   "metadata": {},
   "outputs": [
    {
     "data": {
      "text/plain": [
       "array([13728.4631336 , 13728.4631336 , 17399.38347881, 10224.40280408,\n",
       "       14729.62322775])"
      ]
     },
     "execution_count": 27,
     "metadata": {},
     "output_type": "execute_result"
    }
   ],
   "source": [
    "Yhat=lm1.predict(X)\n",
    "Yhat[0:5]  "
   ]
  },
  {
   "cell_type": "code",
   "execution_count": null,
   "id": "d46f50bd",
   "metadata": {},
   "outputs": [],
   "source": [
    "What is the final estimated linear model we get?                                                  "
   ]
  },
  {
   "cell_type": "code",
   "execution_count": null,
   "id": "65d6edfd",
   "metadata": {},
   "outputs": [],
   "source": [
    "As we saw above, we should get a final linear model with the structure:\n"
   ]
  },
  {
   "cell_type": "code",
   "execution_count": null,
   "id": "d906a1fa",
   "metadata": {},
   "outputs": [],
   "source": [
    "                                          𝑌ℎ𝑎𝑡=𝑎+𝑏𝑋"
   ]
  },
  {
   "cell_type": "markdown",
   "id": "ba40170e",
   "metadata": {},
   "source": [
    "Plugging in the actual values we get:"
   ]
  },
  {
   "cell_type": "code",
   "execution_count": null,
   "id": "fc15d77d",
   "metadata": {},
   "outputs": [],
   "source": [
    "Price = 38423.31 - 821.73 x highway-mpg"
   ]
  },
  {
   "cell_type": "code",
   "execution_count": 28,
   "id": "80deccd9",
   "metadata": {},
   "outputs": [
    {
     "data": {
      "text/html": [
       "<div>\n",
       "<style scoped>\n",
       "    .dataframe tbody tr th:only-of-type {\n",
       "        vertical-align: middle;\n",
       "    }\n",
       "\n",
       "    .dataframe tbody tr th {\n",
       "        vertical-align: top;\n",
       "    }\n",
       "\n",
       "    .dataframe thead th {\n",
       "        text-align: right;\n",
       "    }\n",
       "</style>\n",
       "<table border=\"1\" class=\"dataframe\">\n",
       "  <thead>\n",
       "    <tr style=\"text-align: right;\">\n",
       "      <th></th>\n",
       "      <th>engine-size</th>\n",
       "    </tr>\n",
       "  </thead>\n",
       "  <tbody>\n",
       "    <tr>\n",
       "      <th>0</th>\n",
       "      <td>130</td>\n",
       "    </tr>\n",
       "    <tr>\n",
       "      <th>1</th>\n",
       "      <td>130</td>\n",
       "    </tr>\n",
       "    <tr>\n",
       "      <th>2</th>\n",
       "      <td>152</td>\n",
       "    </tr>\n",
       "    <tr>\n",
       "      <th>3</th>\n",
       "      <td>109</td>\n",
       "    </tr>\n",
       "    <tr>\n",
       "      <th>4</th>\n",
       "      <td>136</td>\n",
       "    </tr>\n",
       "    <tr>\n",
       "      <th>...</th>\n",
       "      <td>...</td>\n",
       "    </tr>\n",
       "    <tr>\n",
       "      <th>196</th>\n",
       "      <td>141</td>\n",
       "    </tr>\n",
       "    <tr>\n",
       "      <th>197</th>\n",
       "      <td>141</td>\n",
       "    </tr>\n",
       "    <tr>\n",
       "      <th>198</th>\n",
       "      <td>173</td>\n",
       "    </tr>\n",
       "    <tr>\n",
       "      <th>199</th>\n",
       "      <td>145</td>\n",
       "    </tr>\n",
       "    <tr>\n",
       "      <th>200</th>\n",
       "      <td>141</td>\n",
       "    </tr>\n",
       "  </tbody>\n",
       "</table>\n",
       "<p>201 rows × 1 columns</p>\n",
       "</div>"
      ],
      "text/plain": [
       "     engine-size\n",
       "0            130\n",
       "1            130\n",
       "2            152\n",
       "3            109\n",
       "4            136\n",
       "..           ...\n",
       "196          141\n",
       "197          141\n",
       "198          173\n",
       "199          145\n",
       "200          141\n",
       "\n",
       "[201 rows x 1 columns]"
      ]
     },
     "execution_count": 28,
     "metadata": {},
     "output_type": "execute_result"
    }
   ],
   "source": [
    "df[['engine-size']]"
   ]
  },
  {
   "cell_type": "code",
   "execution_count": 30,
   "id": "a848a246",
   "metadata": {},
   "outputs": [
    {
     "name": "stdout",
     "output_type": "stream",
     "text": [
      "     symboling  normalized-losses         make aspiration num-of-doors  \\\n",
      "0            3                122  alfa-romero        std          two   \n",
      "1            3                122  alfa-romero        std          two   \n",
      "2            1                122  alfa-romero        std          two   \n",
      "3            2                164         audi        std         four   \n",
      "4            2                164         audi        std         four   \n",
      "..         ...                ...          ...        ...          ...   \n",
      "196         -1                 95        volvo        std         four   \n",
      "197         -1                 95        volvo      turbo         four   \n",
      "198         -1                 95        volvo        std         four   \n",
      "199         -1                 95        volvo      turbo         four   \n",
      "200         -1                 95        volvo      turbo         four   \n",
      "\n",
      "      body-style drive-wheels engine-location  wheel-base    length  ...  \\\n",
      "0    convertible          rwd           front        88.6  0.811148  ...   \n",
      "1    convertible          rwd           front        88.6  0.811148  ...   \n",
      "2      hatchback          rwd           front        94.5  0.822681  ...   \n",
      "3          sedan          fwd           front        99.8  0.848630  ...   \n",
      "4          sedan          4wd           front        99.4  0.848630  ...   \n",
      "..           ...          ...             ...         ...       ...  ...   \n",
      "196        sedan          rwd           front       109.1  0.907256  ...   \n",
      "197        sedan          rwd           front       109.1  0.907256  ...   \n",
      "198        sedan          rwd           front       109.1  0.907256  ...   \n",
      "199        sedan          rwd           front       109.1  0.907256  ...   \n",
      "200        sedan          rwd           front       109.1  0.907256  ...   \n",
      "\n",
      "     horsepower  peak-rpm  city-mpg highway-mpg    price  city-L/100km  \\\n",
      "0         111.0    5000.0        21          27  13495.0     11.190476   \n",
      "1         111.0    5000.0        21          27  16500.0     11.190476   \n",
      "2         154.0    5000.0        19          26  16500.0     12.368421   \n",
      "3         102.0    5500.0        24          30  13950.0      9.791667   \n",
      "4         115.0    5500.0        18          22  17450.0     13.055556   \n",
      "..          ...       ...       ...         ...      ...           ...   \n",
      "196       114.0    5400.0        23          28  16845.0     10.217391   \n",
      "197       160.0    5300.0        19          25  19045.0     12.368421   \n",
      "198       134.0    5500.0        18          23  21485.0     13.055556   \n",
      "199       106.0    4800.0        26          27  22470.0      9.038462   \n",
      "200       114.0    5400.0        19          25  22625.0     12.368421   \n",
      "\n",
      "    horsepower-binned  diesel  gas        Price  \n",
      "0              Medium       0    1 -1035067.080  \n",
      "1              Medium       0    1 -1035067.080  \n",
      "2              Medium       0    1 -1210260.516  \n",
      "3              Medium       0    1  -867836.982  \n",
      "4              Medium       0    1 -1082847.108  \n",
      "..                ...     ...  ...          ...  \n",
      "196            Medium       0    1 -1122663.798  \n",
      "197              High       0    1 -1122663.798  \n",
      "198            Medium       0    1 -1377490.614  \n",
      "199            Medium       1    0 -1154517.150  \n",
      "200            Medium       0    1 -1122663.798  \n",
      "\n",
      "[201 rows x 30 columns]\n"
     ]
    }
   ],
   "source": [
    "import pandas as pd\n",
    "\n",
    "# Calculate price for each row based on engine-size\n",
    "df['Price'] = 166.86-7963.338 * df[['engine-size']]\n",
    "print(df)"
   ]
  },
  {
   "cell_type": "code",
   "execution_count": null,
   "id": "3ace0033",
   "metadata": {},
   "outputs": [],
   "source": []
  },
  {
   "cell_type": "markdown",
   "id": "581823b8",
   "metadata": {},
   "source": [
    "**Multiple Linear Regression**"
   ]
  },
  {
   "cell_type": "markdown",
   "id": "1c743ea5",
   "metadata": {},
   "source": [
    "What if we want to predict car price using more than one variable?\n",
    "\n",
    "If we want to use more variables in our model to predict car price, we can use **Multiple Linear Regression**. \n",
    "Multiple Linear Regression is very similar to Simple Linear Regression,\n",
    "but this method is used to explain the relationship between one continuous response (dependent) variable and **two or more** predictor (independent) variables. \n",
    "Most of the real-world regression models involve multiple predictors. We will illustrate the structure by using four predictor variables, but these results can generalize to any integer:"
   ]
  },
  {
   "cell_type": "markdown",
   "id": "f08b451a",
   "metadata": {},
   "source": [
    "                                        𝑌:𝑅𝑒𝑠𝑝𝑜𝑛𝑠𝑒 𝑉𝑎𝑟𝑖𝑎𝑏𝑙𝑒\n",
    "                                        𝑋1:𝑃𝑟𝑒𝑑𝑖𝑐𝑡𝑜𝑟 𝑉𝑎𝑟𝑖𝑎𝑏𝑙𝑒 1\n",
    "                                        𝑋2:𝑃𝑟𝑒𝑑𝑖𝑐𝑡𝑜𝑟 𝑉𝑎𝑟𝑖𝑎𝑏𝑙𝑒 2\n",
    "                                        𝑋3:𝑃𝑟𝑒𝑑𝑖𝑐𝑡𝑜𝑟 𝑉𝑎𝑟𝑖𝑎𝑏𝑙𝑒 3\n",
    "                                        𝑋4:𝑃𝑟𝑒𝑑𝑖𝑐𝑡𝑜𝑟 𝑉𝑎𝑟𝑖𝑎𝑏𝑙𝑒 4"
   ]
  },
  {
   "cell_type": "markdown",
   "id": "99e53c90",
   "metadata": {},
   "source": [
    "                                            𝑎:𝑖𝑛𝑡𝑒𝑟𝑐𝑒𝑝𝑡\n",
    "                                        𝑏1:𝑐𝑜𝑒𝑓𝑓𝑖𝑐𝑖𝑒𝑛𝑡𝑠 𝑜𝑓 𝑉𝑎𝑟𝑖𝑎𝑏𝑙𝑒 1\n",
    "                                        𝑏2:𝑐𝑜𝑒𝑓𝑓𝑖𝑐𝑖𝑒𝑛𝑡𝑠 𝑜𝑓 𝑉𝑎𝑟𝑖𝑎𝑏𝑙𝑒 2\n",
    "                                        𝑏3:𝑐𝑜𝑒𝑓𝑓𝑖𝑐𝑖𝑒𝑛𝑡𝑠 𝑜𝑓 𝑉𝑎𝑟𝑖𝑎𝑏𝑙𝑒 3\n",
    "                                        𝑏4:𝑐𝑜𝑒𝑓𝑓𝑖𝑐𝑖𝑒𝑛𝑡𝑠 𝑜𝑓 𝑉𝑎𝑟𝑖𝑎𝑏𝑙𝑒 4"
   ]
  },
  {
   "cell_type": "markdown",
   "id": "43a20140",
   "metadata": {},
   "source": [
    "The equation is given by:"
   ]
  },
  {
   "cell_type": "markdown",
   "id": "52015e2c",
   "metadata": {},
   "source": [
    "                                                𝑌ℎ𝑎𝑡=𝑎+𝑏1𝑋1+𝑏2𝑋2+𝑏3𝑋3+𝑏4𝑋4"
   ]
  },
  {
   "cell_type": "markdown",
   "id": "cac69d40",
   "metadata": {},
   "source": [
    "From the previous section we know that other good predictors of price could be:\n",
    "\n",
    "        Horsepower\n",
    "        \n",
    "        Curb-weight\n",
    "        \n",
    "        Engine-size\n",
    "        \n",
    "        Highway-mpg\n",
    "        \n",
    "Let's develop a model using these variables as the predictor variables.\n"
   ]
  },
  {
   "cell_type": "code",
   "execution_count": 32,
   "id": "d1d3e9bc",
   "metadata": {},
   "outputs": [],
   "source": [
    "Z = df[['horsepower', 'curb-weight', 'engine-size', 'highway-mpg']]"
   ]
  },
  {
   "cell_type": "markdown",
   "id": "380f017d",
   "metadata": {},
   "source": [
    "Fit the linear model using the four above-mentioned variables."
   ]
  },
  {
   "cell_type": "code",
   "execution_count": 33,
   "id": "62f1676c",
   "metadata": {},
   "outputs": [
    {
     "data": {
      "text/plain": [
       "LinearRegression()"
      ]
     },
     "execution_count": 33,
     "metadata": {},
     "output_type": "execute_result"
    }
   ],
   "source": [
    "lm.fit(Z, df['price'])"
   ]
  },
  {
   "cell_type": "markdown",
   "id": "47bc101c",
   "metadata": {},
   "source": [
    "What is the value of the intercept(a)?"
   ]
  },
  {
   "cell_type": "code",
   "execution_count": 34,
   "id": "8762b504",
   "metadata": {},
   "outputs": [
    {
     "data": {
      "text/plain": [
       "-15806.624626329198"
      ]
     },
     "execution_count": 34,
     "metadata": {},
     "output_type": "execute_result"
    }
   ],
   "source": [
    "lm.intercept_"
   ]
  },
  {
   "cell_type": "markdown",
   "id": "d782f0d7",
   "metadata": {},
   "source": [
    "What are the values of the coefficients (b1, b2, b3, b4)?"
   ]
  },
  {
   "cell_type": "code",
   "execution_count": 35,
   "id": "774c29bc",
   "metadata": {},
   "outputs": [
    {
     "data": {
      "text/plain": [
       "array([53.49574423,  4.70770099, 81.53026382, 36.05748882])"
      ]
     },
     "execution_count": 35,
     "metadata": {},
     "output_type": "execute_result"
    }
   ],
   "source": [
    "lm.coef_"
   ]
  },
  {
   "cell_type": "code",
   "execution_count": null,
   "id": "cbf8fb9d",
   "metadata": {},
   "outputs": [],
   "source": [
    "What is the final estimated linear model that we get?"
   ]
  },
  {
   "cell_type": "markdown",
   "id": "399629f8",
   "metadata": {},
   "source": [
    "As we saw above, we should get a final linear function with the structure:\n",
    "    \n",
    "                                                               𝑌ℎ𝑎𝑡=𝑎+𝑏1𝑋1+𝑏2𝑋2+𝑏3𝑋3+𝑏4𝑋4\n",
    "        \n",
    "What is the linear function we get in this example?        "
   ]
  },
  {
   "cell_type": "markdown",
   "id": "f6f1a8f0",
   "metadata": {},
   "source": [
    "Price = -15678.742628061467 + 52.65851272 x horsepower + 4.69878948 x curb-weight + 81.95906216 x engine-size + 33.58258185 x highway-mpg"
   ]
  },
  {
   "cell_type": "code",
   "execution_count": 36,
   "id": "88d724d6",
   "metadata": {},
   "outputs": [
    {
     "name": "stdout",
     "output_type": "stream",
     "text": [
      "     symboling  normalized-losses         make aspiration num-of-doors  \\\n",
      "0            3                122  alfa-romero        std          two   \n",
      "1            3                122  alfa-romero        std          two   \n",
      "2            1                122  alfa-romero        std          two   \n",
      "3            2                164         audi        std         four   \n",
      "4            2                164         audi        std         four   \n",
      "..         ...                ...          ...        ...          ...   \n",
      "196         -1                 95        volvo        std         four   \n",
      "197         -1                 95        volvo      turbo         four   \n",
      "198         -1                 95        volvo        std         four   \n",
      "199         -1                 95        volvo      turbo         four   \n",
      "200         -1                 95        volvo      turbo         four   \n",
      "\n",
      "      body-style drive-wheels engine-location  wheel-base    length  ...  \\\n",
      "0    convertible          rwd           front        88.6  0.811148  ...   \n",
      "1    convertible          rwd           front        88.6  0.811148  ...   \n",
      "2      hatchback          rwd           front        94.5  0.822681  ...   \n",
      "3          sedan          fwd           front        99.8  0.848630  ...   \n",
      "4          sedan          4wd           front        99.4  0.848630  ...   \n",
      "..           ...          ...             ...         ...       ...  ...   \n",
      "196        sedan          rwd           front       109.1  0.907256  ...   \n",
      "197        sedan          rwd           front       109.1  0.907256  ...   \n",
      "198        sedan          rwd           front       109.1  0.907256  ...   \n",
      "199        sedan          rwd           front       109.1  0.907256  ...   \n",
      "200        sedan          rwd           front       109.1  0.907256  ...   \n",
      "\n",
      "     horsepower  peak-rpm  city-mpg highway-mpg    price  city-L/100km  \\\n",
      "0         111.0    5000.0        21          27  13495.0     11.190476   \n",
      "1         111.0    5000.0        21          27  16500.0     11.190476   \n",
      "2         154.0    5000.0        19          26  16500.0     12.368421   \n",
      "3         102.0    5500.0        24          30  13950.0      9.791667   \n",
      "4         115.0    5500.0        18          22  17450.0     13.055556   \n",
      "..          ...       ...       ...         ...      ...           ...   \n",
      "196       114.0    5400.0        23          28  16845.0     10.217391   \n",
      "197       160.0    5300.0        19          25  19045.0     12.368421   \n",
      "198       134.0    5500.0        18          23  21485.0     13.055556   \n",
      "199       106.0    4800.0        26          27  22470.0      9.038462   \n",
      "200       114.0    5400.0        19          25  22625.0     12.368421   \n",
      "\n",
      "    horsepower-binned  diesel  gas  Price  \n",
      "0              Medium       0    1    NaN  \n",
      "1              Medium       0    1    NaN  \n",
      "2              Medium       0    1    NaN  \n",
      "3              Medium       0    1    NaN  \n",
      "4              Medium       0    1    NaN  \n",
      "..                ...     ...  ...    ...  \n",
      "196            Medium       0    1    NaN  \n",
      "197              High       0    1    NaN  \n",
      "198            Medium       0    1    NaN  \n",
      "199            Medium       1    0    NaN  \n",
      "200            Medium       0    1    NaN  \n",
      "\n",
      "[201 rows x 30 columns]\n"
     ]
    }
   ],
   "source": [
    "import pandas as pd\n",
    "\n",
    "# Calculate price for each row based on horsepower, curb-weight, engine-size, highway-mpg\n",
    "df['Price'] = -15678.742628061467 + 52.65851272* df[['horsepower']]+ 4.69878948 * df[['curb-weight']] + 81.95906216 *df[['engine-size']]\n",
    "+ 33.58258185 * df[['highway-mpg']]\n",
    "print(df)"
   ]
  },
  {
   "cell_type": "markdown",
   "id": "4eb3a146",
   "metadata": {},
   "source": [
    "# Question 2 a): \n",
    "\n",
    "Create and train a Multiple Linear Regression model \"lm2\" where the response variable is \"price\", and the predictor variable is \"normalized-losses\" and \"highway-mpg\"."
   ]
  },
  {
   "cell_type": "code",
   "execution_count": 37,
   "id": "889913da",
   "metadata": {},
   "outputs": [
    {
     "data": {
      "text/plain": [
       "LinearRegression()"
      ]
     },
     "execution_count": 37,
     "metadata": {},
     "output_type": "execute_result"
    }
   ],
   "source": [
    "lm2 = LinearRegression()\n",
    "lm2"
   ]
  },
  {
   "cell_type": "code",
   "execution_count": 38,
   "id": "a46ccf35",
   "metadata": {},
   "outputs": [],
   "source": [
    "#Let's develop a model using these variables as the predictor variables.\n",
    "V = df[['normalized-losses', 'highway-mpg']]"
   ]
  },
  {
   "cell_type": "code",
   "execution_count": 39,
   "id": "32e06a7e",
   "metadata": {},
   "outputs": [
    {
     "data": {
      "text/plain": [
       "LinearRegression()"
      ]
     },
     "execution_count": 39,
     "metadata": {},
     "output_type": "execute_result"
    }
   ],
   "source": [
    "#Fit the linear model using the four above-mentioned variables.\n",
    "\n",
    "lm2.fit(V, df['price'])"
   ]
  },
  {
   "cell_type": "code",
   "execution_count": 40,
   "id": "2feddeff",
   "metadata": {},
   "outputs": [
    {
     "data": {
      "text/plain": [
       "38201.31327245728"
      ]
     },
     "execution_count": 40,
     "metadata": {},
     "output_type": "execute_result"
    }
   ],
   "source": [
    "#What is the value of the intercept(a)?\n",
    "\n",
    "lm2.intercept_"
   ]
  },
  {
   "cell_type": "markdown",
   "id": "eb99138b",
   "metadata": {},
   "source": [
    "# Question 2 b): \n",
    "Find the coefficient of the model."
   ]
  },
  {
   "cell_type": "code",
   "execution_count": 41,
   "id": "d94a83dc",
   "metadata": {},
   "outputs": [
    {
     "data": {
      "text/plain": [
       "array([   1.49789586, -820.45434016])"
      ]
     },
     "execution_count": 41,
     "metadata": {},
     "output_type": "execute_result"
    }
   ],
   "source": [
    "#What are the values of the coefficients (b1, b2)?\n",
    "\n",
    "lm2.coef_"
   ]
  },
  {
   "cell_type": "code",
   "execution_count": null,
   "id": "337d6aea",
   "metadata": {},
   "outputs": [],
   "source": [
    "What is the final estimated linear model that we get?"
   ]
  },
  {
   "cell_type": "code",
   "execution_count": null,
   "id": "640bee4f",
   "metadata": {},
   "outputs": [],
   "source": [
    "As we saw above, we should get a final linear function with the structure:"
   ]
  },
  {
   "cell_type": "code",
   "execution_count": null,
   "id": "9cf0a944",
   "metadata": {},
   "outputs": [],
   "source": [
    "                                                        𝑌ℎ𝑎𝑡=𝑎+𝑏1𝑋1+𝑏2𝑋2+𝑏3𝑋3+𝑏4𝑋4"
   ]
  },
  {
   "cell_type": "code",
   "execution_count": null,
   "id": "7d10ee80",
   "metadata": {},
   "outputs": [],
   "source": [
    "What is the linear function we get in this example?"
   ]
  },
  {
   "cell_type": "code",
   "execution_count": null,
   "id": "e1420e0f",
   "metadata": {},
   "outputs": [],
   "source": [
    "Price = 38201.31+ 1.4978 x normalized-losses -820.45 x highway-mpg df[['normalized-losses', 'highway-mpg']]"
   ]
  },
  {
   "cell_type": "code",
   "execution_count": 42,
   "id": "d3da770f",
   "metadata": {},
   "outputs": [
    {
     "name": "stdout",
     "output_type": "stream",
     "text": [
      "     symboling  normalized-losses         make aspiration num-of-doors  \\\n",
      "0            3                122  alfa-romero        std          two   \n",
      "1            3                122  alfa-romero        std          two   \n",
      "2            1                122  alfa-romero        std          two   \n",
      "3            2                164         audi        std         four   \n",
      "4            2                164         audi        std         four   \n",
      "..         ...                ...          ...        ...          ...   \n",
      "196         -1                 95        volvo        std         four   \n",
      "197         -1                 95        volvo      turbo         four   \n",
      "198         -1                 95        volvo        std         four   \n",
      "199         -1                 95        volvo      turbo         four   \n",
      "200         -1                 95        volvo      turbo         four   \n",
      "\n",
      "      body-style drive-wheels engine-location  wheel-base    length  ...  \\\n",
      "0    convertible          rwd           front        88.6  0.811148  ...   \n",
      "1    convertible          rwd           front        88.6  0.811148  ...   \n",
      "2      hatchback          rwd           front        94.5  0.822681  ...   \n",
      "3          sedan          fwd           front        99.8  0.848630  ...   \n",
      "4          sedan          4wd           front        99.4  0.848630  ...   \n",
      "..           ...          ...             ...         ...       ...  ...   \n",
      "196        sedan          rwd           front       109.1  0.907256  ...   \n",
      "197        sedan          rwd           front       109.1  0.907256  ...   \n",
      "198        sedan          rwd           front       109.1  0.907256  ...   \n",
      "199        sedan          rwd           front       109.1  0.907256  ...   \n",
      "200        sedan          rwd           front       109.1  0.907256  ...   \n",
      "\n",
      "     horsepower  peak-rpm  city-mpg highway-mpg    price  city-L/100km  \\\n",
      "0         111.0    5000.0        21          27  13495.0     11.190476   \n",
      "1         111.0    5000.0        21          27  16500.0     11.190476   \n",
      "2         154.0    5000.0        19          26  16500.0     12.368421   \n",
      "3         102.0    5500.0        24          30  13950.0      9.791667   \n",
      "4         115.0    5500.0        18          22  17450.0     13.055556   \n",
      "..          ...       ...       ...         ...      ...           ...   \n",
      "196       114.0    5400.0        23          28  16845.0     10.217391   \n",
      "197       160.0    5300.0        19          25  19045.0     12.368421   \n",
      "198       134.0    5500.0        18          23  21485.0     13.055556   \n",
      "199       106.0    4800.0        26          27  22470.0      9.038462   \n",
      "200       114.0    5400.0        19          25  22625.0     12.368421   \n",
      "\n",
      "    horsepower-binned  diesel  gas  Price  \n",
      "0              Medium       0    1    NaN  \n",
      "1              Medium       0    1    NaN  \n",
      "2              Medium       0    1    NaN  \n",
      "3              Medium       0    1    NaN  \n",
      "4              Medium       0    1    NaN  \n",
      "..                ...     ...  ...    ...  \n",
      "196            Medium       0    1    NaN  \n",
      "197              High       0    1    NaN  \n",
      "198            Medium       0    1    NaN  \n",
      "199            Medium       1    0    NaN  \n",
      "200            Medium       0    1    NaN  \n",
      "\n",
      "[201 rows x 30 columns]\n"
     ]
    }
   ],
   "source": [
    "import pandas as pd\n",
    "\n",
    "# Calculate price for each row based on normalized-losses, highway-mpg\n",
    "df['Price'] = 38201.31+ 1.4978 * df[['normalized-losses']]-820.45  * df[['highway-mpg']]\n",
    "\n",
    "print(df)"
   ]
  },
  {
   "cell_type": "code",
   "execution_count": null,
   "id": "24de7f53",
   "metadata": {},
   "outputs": [],
   "source": []
  },
  {
   "cell_type": "markdown",
   "id": "90c987e2",
   "metadata": {},
   "source": [
    "# 2. Model Evaluation Using Visualization"
   ]
  },
  {
   "cell_type": "markdown",
   "id": "3633ad5e",
   "metadata": {},
   "source": [
    "Now that we've developed some models, how do we evaluate our models and choose the best one? One way to do this is by using a visualization."
   ]
  },
  {
   "cell_type": "markdown",
   "id": "d744158e",
   "metadata": {},
   "source": [
    "Import the visualization package, seaborn:"
   ]
  },
  {
   "cell_type": "code",
   "execution_count": 43,
   "id": "c6dc9cc9",
   "metadata": {},
   "outputs": [],
   "source": [
    "# import the visualization package: seaborn\n",
    "import seaborn as sns\n",
    "%matplotlib inline "
   ]
  },
  {
   "cell_type": "markdown",
   "id": "be3a7213",
   "metadata": {},
   "source": [
    "**Regression Plot**"
   ]
  },
  {
   "cell_type": "markdown",
   "id": "9ce81a91",
   "metadata": {},
   "source": [
    "When it comes to simple linear regression, an excellent way to visualize the fit of our model is by using **regression plots**.\n",
    "\n",
    "This plot will show a combination of a scattered data points (a **scatterplot**), as well as the fitted **linear regression** line going through the data. \n",
    "This will give us a reasonable estimate of the relationship between the two variables, the strength of the correlation, \n",
    "as well as the direction (positive or negative correlation)."
   ]
  },
  {
   "cell_type": "markdown",
   "id": "6607ed60",
   "metadata": {},
   "source": [
    "Let's visualize **highway-mpg** as potential predictor variable of price:"
   ]
  },
  {
   "cell_type": "code",
   "execution_count": 44,
   "id": "ffa67291",
   "metadata": {},
   "outputs": [
    {
     "data": {
      "text/plain": [
       "(0.0, 48174.41176208709)"
      ]
     },
     "execution_count": 44,
     "metadata": {},
     "output_type": "execute_result"
    },
    {
     "data": {
      "image/png": "[encoded data removed]",
      "text/plain": [
       "<Figure size 864x720 with 1 Axes>"
      ]
     },
     "metadata": {
      "needs_background": "light"
     },
     "output_type": "display_data"
    }
   ],
   "source": [
    "width = 12\n",
    "height = 10\n",
    "plt.figure(figsize=(width, height))\n",
    "sns.regplot(x=\"highway-mpg\", y=\"price\", data=df)\n",
    "plt.ylim(0,)"
   ]
  },
  {
   "cell_type": "markdown",
   "id": "053afe90",
   "metadata": {},
   "source": [
    "We can see from this plot that price is **negatively correlated** to highway-mpg since the regression slope is negative.\n",
    "\n",
    "One thing to keep in mind when looking at a regression plot is to pay attention to how scattered the data points are around the regression line. This will give you a good indication of the variance of the data and whether a linear model would be the best fit or not. If the data is too far off from the line, this linear model might not be the best model for this data.\n",
    "\n",
    "Let's compare this plot to the regression plot of \"peak-rpm\"."
   ]
  },
  {
   "cell_type": "code",
   "execution_count": 45,
   "id": "087c2d26",
   "metadata": {},
   "outputs": [
    {
     "data": {
      "text/plain": [
       "(0.0, 47414.1)"
      ]
     },
     "execution_count": 45,
     "metadata": {},
     "output_type": "execute_result"
    },
    {
     "data": {
      "image/png": "[encoded data removed]",
      "text/plain": [
       "<Figure size 864x720 with 1 Axes>"
      ]
     },
     "metadata": {
      "needs_background": "light"
     },
     "output_type": "display_data"
    }
   ],
   "source": [
    "plt.figure(figsize=(width, height))\n",
    "sns.regplot(x=\"peak-rpm\", y=\"price\", data=df)\n",
    "plt.ylim(0,)"
   ]
  },
  {
   "cell_type": "markdown",
   "id": "9e93e676",
   "metadata": {},
   "source": [
    "Comparing the regression plot of \"peak-rpm\" and \"highway-mpg\", we see that the points for \"highway-mpg\" are much closer to the generated line and, on average, decrease. The points for \"peak-rpm\" have more spread around the predicted line and it is much harder to determine if the points are decreasing or increasing as the \"peak-rpm\" increases."
   ]
  },
  {
   "cell_type": "markdown",
   "id": "28b6553f",
   "metadata": {},
   "source": [
    "# Question 3:\n",
    "Given the regression plots above, is \"peak-rpm\" or \"highway-mpg\" more strongly correlated with \"price\"? Use the method \".corr()\" to verify your answer."
   ]
  },
  {
   "cell_type": "code",
   "execution_count": 48,
   "id": "fceaeb91",
   "metadata": {},
   "outputs": [
    {
     "data": {
      "text/html": [
       "<div>\n",
       "<style scoped>\n",
       "    .dataframe tbody tr th:only-of-type {\n",
       "        vertical-align: middle;\n",
       "    }\n",
       "\n",
       "    .dataframe tbody tr th {\n",
       "        vertical-align: top;\n",
       "    }\n",
       "\n",
       "    .dataframe thead th {\n",
       "        text-align: right;\n",
       "    }\n",
       "</style>\n",
       "<table border=\"1\" class=\"dataframe\">\n",
       "  <thead>\n",
       "    <tr style=\"text-align: right;\">\n",
       "      <th></th>\n",
       "      <th>peak-rpm</th>\n",
       "      <th>highway-mpg</th>\n",
       "      <th>price</th>\n",
       "    </tr>\n",
       "  </thead>\n",
       "  <tbody>\n",
       "    <tr>\n",
       "      <th>peak-rpm</th>\n",
       "      <td>1.000000</td>\n",
       "      <td>-0.058598</td>\n",
       "      <td>-0.101616</td>\n",
       "    </tr>\n",
       "    <tr>\n",
       "      <th>highway-mpg</th>\n",
       "      <td>-0.058598</td>\n",
       "      <td>1.000000</td>\n",
       "      <td>-0.704692</td>\n",
       "    </tr>\n",
       "    <tr>\n",
       "      <th>price</th>\n",
       "      <td>-0.101616</td>\n",
       "      <td>-0.704692</td>\n",
       "      <td>1.000000</td>\n",
       "    </tr>\n",
       "  </tbody>\n",
       "</table>\n",
       "</div>"
      ],
      "text/plain": [
       "             peak-rpm  highway-mpg     price\n",
       "peak-rpm     1.000000    -0.058598 -0.101616\n",
       "highway-mpg -0.058598     1.000000 -0.704692\n",
       "price       -0.101616    -0.704692  1.000000"
      ]
     },
     "execution_count": 48,
     "metadata": {},
     "output_type": "execute_result"
    }
   ],
   "source": [
    "df[[\"peak-rpm\",\"highway-mpg\",\"price\"]].corr()"
   ]
  },
  {
   "cell_type": "markdown",
   "id": "e4e49dd5",
   "metadata": {},
   "source": [
    "**Residual Plot**\n",
    "A good way to visualize the variance of the data is to use a residual plot.\n",
    "\n",
    "What is a **residual**?\n",
    "\n",
    "The difference between the observed value (y) and the predicted value (Yhat) is called the residual (e). When we look at a regression plot, the residual is the distance from the data point to the fitted regression line.\n",
    "\n",
    "So what is a **residual plot**?\n",
    "\n",
    "A residual plot is a graph that shows the residuals on the vertical y-axis and the independent variable on the horizontal x-axis.\n",
    "\n",
    "What do we pay attention to when looking at a residual plot?\n",
    "\n",
    "We look at the spread of the residuals:\n",
    "\n",
    "- If the points in a residual plot are **randomly spread out around the x-axis**, then a **linear model is appropriate** for the data.\n",
    "\n",
    "Why is that? Randomly spread out residuals means that the variance is constant, and thus the linear model is a good fit for this data."
   ]
  },
  {
   "cell_type": "code",
   "execution_count": 47,
   "id": "e5fc75b9",
   "metadata": {},
   "outputs": [
    {
     "data": {
      "image/png": "[encoded data removed]",
      "text/plain": [
       "<Figure size 864x720 with 1 Axes>"
      ]
     },
     "metadata": {
      "needs_background": "light"
     },
     "output_type": "display_data"
    }
   ],
   "source": [
    "width = 12\n",
    "height = 10\n",
    "plt.figure(figsize=(width, height))\n",
    "sns.residplot(x=df['highway-mpg'], y=df['price'])\n",
    "plt.show()"
   ]
  },
  {
   "cell_type": "markdown",
   "id": "ad28dec2",
   "metadata": {},
   "source": [
    "What is this plot telling us?\n",
    "\n",
    "We can see from this residual plot that the residuals are not randomly spread around the x-axis, leading us to believe that maybe a non-linear model is more appropriate for this data."
   ]
  },
  {
   "cell_type": "markdown",
   "id": "e8c49c59",
   "metadata": {},
   "source": [
    "# Multiple Linear Regression"
   ]
  },
  {
   "cell_type": "markdown",
   "id": "1d8cfe90",
   "metadata": {},
   "source": [
    "How do we visualize a model for Multiple Linear Regression? This gets a bit more complicated because you can't visualize it with regression or residual plot.\n",
    "\n",
    "One way to look at the fit of the model is by looking at the **distribution plot**. We can look at the distribution of the fitted values that result from the model and compare it to the distribution of the actual values.\n",
    "\n",
    "First, let's make a prediction:"
   ]
  },
  {
   "cell_type": "code",
   "execution_count": 49,
   "id": "108a3b78",
   "metadata": {},
   "outputs": [],
   "source": [
    "Y_hat = lm.predict(Z)"
   ]
  },
  {
   "cell_type": "code",
   "execution_count": 50,
   "id": "770d2b29",
   "metadata": {},
   "outputs": [
    {
     "name": "stderr",
     "output_type": "stream",
     "text": [
      "C:\\Users\\user\\anaconda3\\lib\\site-packages\\seaborn\\distributions.py:2619: FutureWarning: `distplot` is a deprecated function and will be removed in a future version. Please adapt your code to use either `displot` (a figure-level function with similar flexibility) or `kdeplot` (an axes-level function for kernel density plots).\n",
      "  warnings.warn(msg, FutureWarning)\n",
      "C:\\Users\\user\\anaconda3\\lib\\site-packages\\seaborn\\distributions.py:2619: FutureWarning: `distplot` is a deprecated function and will be removed in a future version. Please adapt your code to use either `displot` (a figure-level function with similar flexibility) or `kdeplot` (an axes-level function for kernel density plots).\n",
      "  warnings.warn(msg, FutureWarning)\n"
     ]
    },
    {
     "data": {
      "image/png": "[encoded data removed]",
      "text/plain": [
       "<Figure size 864x720 with 1 Axes>"
      ]
     },
     "metadata": {
      "needs_background": "light"
     },
     "output_type": "display_data"
    }
   ],
   "source": [
    "plt.figure(figsize=(width, height))\n",
    "\n",
    "\n",
    "ax1 = sns.distplot(df['price'], hist=False, color=\"r\", label=\"Actual Value\")\n",
    "sns.distplot(Y_hat, hist=False, color=\"b\", label=\"Fitted Values\" , ax=ax1)\n",
    "\n",
    "\n",
    "plt.title('Actual vs Fitted Values for Price')\n",
    "plt.xlabel('Price (in dollars)')\n",
    "plt.ylabel('Proportion of Cars')\n",
    "\n",
    "plt.show()\n",
    "plt.close()"
   ]
  },
  {
   "cell_type": "markdown",
   "id": "aba1f5b7",
   "metadata": {},
   "source": [
    "We can see that the fitted values are reasonably close to the actual values since the two distributions overlap a bit. However, there is definitely some room for improvement."
   ]
  },
  {
   "cell_type": "markdown",
   "id": "849f769f",
   "metadata": {},
   "source": [
    "# 3. Polynomial Regression and Pipelines¶"
   ]
  },
  {
   "cell_type": "markdown",
   "id": "aaeefb08",
   "metadata": {},
   "source": [
    "**Polynomial regression** is a particular case of the general linear regression model or multiple linear regression models.\n",
    "\n",
    "We get non-linear relationships by squaring or setting higher-order terms of the predictor variables.\n",
    "\n",
    "There are different orders of polynomial regression:"
   ]
  },
  {
   "cell_type": "markdown",
   "id": "1150a7f6",
   "metadata": {},
   "source": [
    "                                            Quadratic - 2nd Order\n",
    "                                            𝑌ℎ𝑎𝑡=𝑎+𝑏1𝑋+𝑏2𝑋2\n",
    "\n",
    "                                            Cubic - 3rd Order\n",
    "                                            𝑌ℎ𝑎𝑡=𝑎+𝑏1𝑋+𝑏2𝑋2+𝑏3𝑋3\n",
    "                                           \n",
    "                                            Higher-Order:\n",
    "                                            𝑌=𝑎+𝑏1𝑋+𝑏2𝑋2+𝑏3𝑋3...."
   ]
  },
  {
   "cell_type": "markdown",
   "id": "71d7ae67",
   "metadata": {},
   "source": [
    "We saw earlier that a linear model did not provide the best fit while using \"highway-mpg\" as the predictor variable. Let's see if we can try fitting a polynomial model to the data instead."
   ]
  },
  {
   "cell_type": "markdown",
   "id": "a4b5c9c8",
   "metadata": {},
   "source": [
    "We will use the following function to plot the data:"
   ]
  },
  {
   "cell_type": "code",
   "execution_count": 51,
   "id": "cbbab21c",
   "metadata": {},
   "outputs": [],
   "source": [
    "def PlotPolly(model, independent_variable, dependent_variabble, Name):\n",
    "    x_new = np.linspace(15, 55, 100)\n",
    "    y_new = model(x_new)\n",
    "\n",
    "    plt.plot(independent_variable, dependent_variabble, '.', x_new, y_new, '-')\n",
    "    plt.title('Polynomial Fit with Matplotlib for Price ~ Length')\n",
    "    ax = plt.gca()\n",
    "    ax.set_facecolor((0.898, 0.898, 0.898))\n",
    "    fig = plt.gcf()\n",
    "    plt.xlabel(Name)\n",
    "    plt.ylabel('Price of Cars')\n",
    "\n",
    "    plt.show()\n",
    "    plt.close()"
   ]
  },
  {
   "cell_type": "markdown",
   "id": "f1b7d61b",
   "metadata": {},
   "source": [
    "Let's get the variables:"
   ]
  },
  {
   "cell_type": "code",
   "execution_count": 52,
   "id": "f0c184e2",
   "metadata": {},
   "outputs": [],
   "source": [
    "x = df['highway-mpg']\n",
    "y = df['price']"
   ]
  },
  {
   "cell_type": "markdown",
   "id": "80fded8c",
   "metadata": {},
   "source": [
    "Let's fit the polynomial using the function **polyfit**, then use the function **poly1d** to display the polynomial function."
   ]
  },
  {
   "cell_type": "code",
   "execution_count": 53,
   "id": "58aeda1e",
   "metadata": {},
   "outputs": [
    {
     "name": "stdout",
     "output_type": "stream",
     "text": [
      "        3         2\n",
      "-1.557 x + 204.8 x - 8965 x + 1.379e+05\n"
     ]
    }
   ],
   "source": [
    "# Here we use a polynomial of the 3rd order (cubic) \n",
    "f = np.polyfit(x, y, 3)\n",
    "p = np.poly1d(f)\n",
    "print(p)"
   ]
  },
  {
   "cell_type": "markdown",
   "id": "dc8fbd57",
   "metadata": {},
   "source": [
    "Let's plot the function:"
   ]
  },
  {
   "cell_type": "code",
   "execution_count": 54,
   "id": "0f93cd84",
   "metadata": {},
   "outputs": [
    {
     "data": {
      "image/png": "[encoded data removed]",
      "text/plain": [
       "<Figure size 432x288 with 1 Axes>"
      ]
     },
     "metadata": {
      "needs_background": "light"
     },
     "output_type": "display_data"
    }
   ],
   "source": [
    "PlotPolly(p, x, y, 'highway-mpg')"
   ]
  },
  {
   "cell_type": "code",
   "execution_count": 55,
   "id": "f8f1ea9d",
   "metadata": {},
   "outputs": [
    {
     "data": {
      "text/plain": [
       "array([-1.55663829e+00,  2.04754306e+02, -8.96543312e+03,  1.37923594e+05])"
      ]
     },
     "execution_count": 55,
     "metadata": {},
     "output_type": "execute_result"
    }
   ],
   "source": [
    "np.polyfit(x, y, 3)"
   ]
  },
  {
   "cell_type": "markdown",
   "id": "0440438f",
   "metadata": {},
   "source": [
    "We can already see from plotting that this polynomial model performs better than the linear model. This is because the generated polynomial function \"hits\" more of the data points."
   ]
  },
  {
   "cell_type": "markdown",
   "id": "205a8676",
   "metadata": {},
   "source": [
    "# Question 4:\n",
    "Create 11 order polynomial model with the variables x and y from above."
   ]
  },
  {
   "cell_type": "code",
   "execution_count": 57,
   "id": "5c10e083",
   "metadata": {},
   "outputs": [
    {
     "name": "stdout",
     "output_type": "stream",
     "text": [
      "            11             10             9           8         7\n",
      "-1.243e-08 x  + 4.722e-06 x  - 0.0008028 x + 0.08056 x - 5.297 x\n",
      "          6        5             4             3             2\n",
      " + 239.5 x - 7588 x + 1.684e+05 x - 2.565e+06 x + 2.551e+07 x - 1.491e+08 x + 3.879e+08\n"
     ]
    },
    {
     "data": {
      "image/png": "[encoded data removed]",
      "text/plain": [
       "<Figure size 432x288 with 1 Axes>"
      ]
     },
     "metadata": {
      "needs_background": "light"
     },
     "output_type": "display_data"
    }
   ],
   "source": [
    "# Here we use a polynomial of the 3rd order (cubic) \n",
    "f1 = np.polyfit(x, y, 11)\n",
    "p1 = np.poly1d(f1)\n",
    "print(p1)\n",
    "PlotPolly(p1, x, y, 'highway-mpg')"
   ]
  },
  {
   "cell_type": "markdown",
   "id": "665cdf28",
   "metadata": {},
   "source": [
    "The analytical expression for Multivariate Polynomial function gets complicated. For example, the expression for a second-order (degree=2) polynomial with two variables is given by:\n",
    "\n"
   ]
  },
  {
   "cell_type": "markdown",
   "id": "b22d64bf",
   "metadata": {},
   "source": [
    "                                                𝑌ℎ𝑎𝑡=𝑎+𝑏1𝑋1+𝑏2𝑋2+𝑏3𝑋1𝑋2+𝑏4𝑋21+𝑏5𝑋22"
   ]
  },
  {
   "cell_type": "markdown",
   "id": "e0adc723",
   "metadata": {},
   "source": [
    "We can perform a polynomial transform on multiple features. First, we import the module:"
   ]
  },
  {
   "cell_type": "code",
   "execution_count": 58,
   "id": "d0dfe653",
   "metadata": {},
   "outputs": [],
   "source": [
    "from sklearn.preprocessing import PolynomialFeatures"
   ]
  },
  {
   "cell_type": "markdown",
   "id": "2bcfaeed",
   "metadata": {},
   "source": [
    "We create a **PolynomialFeatures** object of degree 2:"
   ]
  },
  {
   "cell_type": "code",
   "execution_count": 59,
   "id": "240785bc",
   "metadata": {},
   "outputs": [
    {
     "data": {
      "text/plain": [
       "PolynomialFeatures()"
      ]
     },
     "execution_count": 59,
     "metadata": {},
     "output_type": "execute_result"
    }
   ],
   "source": [
    "pr=PolynomialFeatures(degree=2)\n",
    "pr"
   ]
  },
  {
   "cell_type": "code",
   "execution_count": 60,
   "id": "d8a5cd93",
   "metadata": {},
   "outputs": [],
   "source": [
    "Z_pr=pr.fit_transform(Z)"
   ]
  },
  {
   "cell_type": "markdown",
   "id": "d1c08261",
   "metadata": {},
   "source": [
    "In the original data, there are 201 samples and 4 features."
   ]
  },
  {
   "cell_type": "code",
   "execution_count": 61,
   "id": "f7e0886c",
   "metadata": {},
   "outputs": [
    {
     "data": {
      "text/plain": [
       "(201, 4)"
      ]
     },
     "execution_count": 61,
     "metadata": {},
     "output_type": "execute_result"
    }
   ],
   "source": [
    "Z.shape"
   ]
  },
  {
   "cell_type": "markdown",
   "id": "74ff98e0",
   "metadata": {},
   "source": [
    "After the transformation, there are 201 samples and 15 features."
   ]
  },
  {
   "cell_type": "code",
   "execution_count": 62,
   "id": "5b5f9c7b",
   "metadata": {},
   "outputs": [
    {
     "data": {
      "text/plain": [
       "(201, 15)"
      ]
     },
     "execution_count": 62,
     "metadata": {},
     "output_type": "execute_result"
    }
   ],
   "source": [
    "Z_pr.shape"
   ]
  },
  {
   "cell_type": "markdown",
   "id": "a0459746",
   "metadata": {},
   "source": [
    "# Pipeline"
   ]
  },
  {
   "cell_type": "markdown",
   "id": "17ead3d4",
   "metadata": {},
   "source": [
    "\n",
    "Data Pipelines simplify the steps of processing the data. We use the module **Pipeline** to create a pipeline. We also use **StandardScaler** as a step in our pipeline."
   ]
  },
  {
   "cell_type": "code",
   "execution_count": 63,
   "id": "8e7fbe7e",
   "metadata": {},
   "outputs": [],
   "source": [
    "from sklearn.pipeline import Pipeline\n",
    "from sklearn.preprocessing import StandardScaler"
   ]
  },
  {
   "cell_type": "markdown",
   "id": "198232f9",
   "metadata": {},
   "source": [
    "We create the pipeline by creating a list of tuples including the name of the model or estimator and its corresponding constructor."
   ]
  },
  {
   "cell_type": "markdown",
   "id": "9b689f71",
   "metadata": {},
   "source": [
    " #personal \n",
    "Normalization==>polynomial transform==>linear regression\n",
    "        ||___________||                     ||\n",
    "        transformation                     prediction"
   ]
  },
  {
   "cell_type": "code",
   "execution_count": 65,
   "id": "0494b8dc",
   "metadata": {},
   "outputs": [],
   "source": [
    "Input=[('scale',StandardScaler()), ('polynomial', PolynomialFeatures(include_bias=False)), ('model',LinearRegression())]"
   ]
  },
  {
   "cell_type": "markdown",
   "id": "be4e1cf4",
   "metadata": {},
   "source": [
    "We input the list as an argument to the pipeline constructor:"
   ]
  },
  {
   "cell_type": "code",
   "execution_count": 66,
   "id": "7114fe40",
   "metadata": {},
   "outputs": [
    {
     "data": {
      "text/plain": [
       "Pipeline(steps=[('scale', StandardScaler()),\n",
       "                ('polynomial', PolynomialFeatures(include_bias=False)),\n",
       "                ('model', LinearRegression())])"
      ]
     },
     "execution_count": 66,
     "metadata": {},
     "output_type": "execute_result"
    }
   ],
   "source": [
    "pipe=Pipeline(Input)\n",
    "pipe"
   ]
  },
  {
   "cell_type": "markdown",
   "id": "c19cd51b",
   "metadata": {},
   "source": [
    "First, we convert the data type Z to type float to avoid conversion warnings that may appear as a result of StandardScaler taking float inputs.\n",
    "\n",
    "Then, we can normalize the data, perform a transform and fit the model simultaneously."
   ]
  },
  {
   "cell_type": "code",
   "execution_count": 67,
   "id": "77549896",
   "metadata": {},
   "outputs": [
    {
     "data": {
      "text/plain": [
       "Pipeline(steps=[('scale', StandardScaler()),\n",
       "                ('polynomial', PolynomialFeatures(include_bias=False)),\n",
       "                ('model', LinearRegression())])"
      ]
     },
     "execution_count": 67,
     "metadata": {},
     "output_type": "execute_result"
    }
   ],
   "source": [
    "Z = Z.astype(float)\n",
    "pipe.fit(Z,y)"
   ]
  },
  {
   "cell_type": "markdown",
   "id": "4f3b970a",
   "metadata": {},
   "source": [
    "Similarly, we can normalize the data, perform a transform and produce a prediction simultaneously."
   ]
  },
  {
   "cell_type": "code",
   "execution_count": 68,
   "id": "0045dea4",
   "metadata": {},
   "outputs": [
    {
     "data": {
      "text/plain": [
       "array([13102.74784201, 13102.74784201, 18225.54572197, 10390.29636555])"
      ]
     },
     "execution_count": 68,
     "metadata": {},
     "output_type": "execute_result"
    }
   ],
   "source": [
    "ypipe=pipe.predict(Z)\n",
    "ypipe[0:4]"
   ]
  },
  {
   "cell_type": "markdown",
   "id": "7375c221",
   "metadata": {},
   "source": [
    "# Question 5:\n",
    "Create a pipeline that standardizes the data, then produce a prediction using a linear regression model using the features Z and target y."
   ]
  },
  {
   "cell_type": "code",
   "execution_count": 69,
   "id": "215ae544",
   "metadata": {},
   "outputs": [
    {
     "data": {
      "text/plain": [
       "array([13699.11161184, 13699.11161184, 19051.65470233, 10620.36193015,\n",
       "       15521.31420211, 13869.66673213, 15456.16196732, 15974.00907672,\n",
       "       17612.35917161, 10722.32509097])"
      ]
     },
     "execution_count": 69,
     "metadata": {},
     "output_type": "execute_result"
    }
   ],
   "source": [
    "Input=[('scale',StandardScaler()),('model',LinearRegression())]\n",
    "\n",
    "pipe=Pipeline(Input)\n",
    "\n",
    "pipe.fit(Z,y)\n",
    "\n",
    "ypipe=pipe.predict(Z)\n",
    "ypipe[0:10]"
   ]
  },
  {
   "cell_type": "markdown",
   "id": "1fda059e",
   "metadata": {},
   "source": [
    "# 4. Measures for In-Sample Evaluation"
   ]
  },
  {
   "cell_type": "markdown",
   "id": "37755340",
   "metadata": {},
   "source": [
    "When evaluating our models, not only do we want to visualize the results, but we also want a quantitative measure to determine how accurate the model is.\n",
    "\n",
    "Two very important measures that are often used in Statistics to determine the accuracy of a model are:\n",
    "\n",
    "   **R^2 / R-squared**\n",
    "\n",
    "   **Mean Squared Error (MSE)**\n",
    "\n",
    "**R-squared**\n",
    "\n",
    "R squared, also known as the coefficient of determination, is a measure to indicate how close the data is to the fitted regression line.\n",
    "\n",
    "The value of the R-squared is the percentage of variation of the response variable (y) that is explained by a linear model.\n",
    "\n",
    "**Mean Squared Error (MSE)**\n",
    "\n",
    "The Mean Squared Error measures the average of the squares of errors. That is, the difference between actual value (y) and the estimated value (ŷ)."
   ]
  },
  {
   "cell_type": "markdown",
   "id": "df80fb65",
   "metadata": {},
   "source": [
    "# Model 1: Simple Linear Regression\n",
    "    \n",
    "Let's calculate the R^2:"
   ]
  },
  {
   "cell_type": "code",
   "execution_count": 70,
   "id": "ddaaa079",
   "metadata": {},
   "outputs": [
    {
     "name": "stdout",
     "output_type": "stream",
     "text": [
      "The R-square is:  0.7609686443622008\n"
     ]
    }
   ],
   "source": [
    "#highway_mpg_fit\n",
    "lm.fit(X, Y)\n",
    "# Find the R^2\n",
    "print('The R-square is: ', lm.score(X, Y))"
   ]
  },
  {
   "cell_type": "markdown",
   "id": "492e9e64",
   "metadata": {},
   "source": [
    "We can say that ~49.659% of the variation of the price is explained by this simple linear model \"horsepower_fit\"."
   ]
  },
  {
   "cell_type": "markdown",
   "id": "9a67a582",
   "metadata": {},
   "source": [
    "Let's calculate the MSE:"
   ]
  },
  {
   "cell_type": "markdown",
   "id": "f5c7dbcb",
   "metadata": {},
   "source": [
    "We can predict the output i.e., \"yhat\" using the predict method, where X is the input variable:"
   ]
  },
  {
   "cell_type": "code",
   "execution_count": 71,
   "id": "904a8d19",
   "metadata": {},
   "outputs": [
    {
     "name": "stdout",
     "output_type": "stream",
     "text": [
      "The output of the first four predicted value is:  [13728.4631336  13728.4631336  17399.38347881 10224.40280408]\n"
     ]
    }
   ],
   "source": [
    "Yhat=lm.predict(X)\n",
    "print('The output of the first four predicted value is: ', Yhat[0:4])"
   ]
  },
  {
   "cell_type": "markdown",
   "id": "975b99e7",
   "metadata": {},
   "source": [
    "Let's import the function **mean_squared_error** from the module **metrics**:"
   ]
  },
  {
   "cell_type": "code",
   "execution_count": 72,
   "id": "eea9cbec",
   "metadata": {},
   "outputs": [],
   "source": [
    "from sklearn.metrics import mean_squared_error"
   ]
  },
  {
   "cell_type": "code",
   "execution_count": null,
   "id": "288cf953",
   "metadata": {},
   "outputs": [],
   "source": [
    "We can compare the predicted results with the actual results:"
   ]
  },
  {
   "cell_type": "code",
   "execution_count": 73,
   "id": "c7651fe3",
   "metadata": {},
   "outputs": [
    {
     "name": "stdout",
     "output_type": "stream",
     "text": [
      "The mean square error of price and predicted value is:  15021126.02517414\n"
     ]
    }
   ],
   "source": [
    "mse = mean_squared_error(df['price'], Yhat)\n",
    "print('The mean square error of price and predicted value is: ', mse)"
   ]
  },
  {
   "cell_type": "markdown",
   "id": "1f3a058d",
   "metadata": {},
   "source": [
    "# Model 2: Multiple Linear Regression"
   ]
  },
  {
   "cell_type": "markdown",
   "id": "96eaabce",
   "metadata": {},
   "source": [
    "Let's calculate the R^2:"
   ]
  },
  {
   "cell_type": "code",
   "execution_count": 74,
   "id": "3dcc404a",
   "metadata": {},
   "outputs": [
    {
     "name": "stdout",
     "output_type": "stream",
     "text": [
      "The R-square is:  0.8093562806577457\n"
     ]
    }
   ],
   "source": [
    "# fit the model \n",
    "lm.fit(Z, df['price'])\n",
    "# Find the R^2\n",
    "print('The R-square is: ', lm.score(Z, df['price']))"
   ]
  },
  {
   "cell_type": "markdown",
   "id": "353eb3f5",
   "metadata": {},
   "source": [
    "We can say that ~80.896 % of the variation of price is explained by this multiple linear regression \"multi_fit\"."
   ]
  },
  {
   "cell_type": "markdown",
   "id": "0143fdb2",
   "metadata": {},
   "source": [
    "Let's calculate the MSE."
   ]
  },
  {
   "cell_type": "markdown",
   "id": "59371eb1",
   "metadata": {},
   "source": [
    "We produce a prediction:"
   ]
  },
  {
   "cell_type": "code",
   "execution_count": 75,
   "id": "8e0e88a0",
   "metadata": {},
   "outputs": [],
   "source": [
    "Y_predict_multifit = lm.predict(Z)"
   ]
  },
  {
   "cell_type": "markdown",
   "id": "2838e0f3",
   "metadata": {},
   "source": [
    "We compare the predicted results with the actual results:"
   ]
  },
  {
   "cell_type": "code",
   "execution_count": 76,
   "id": "36fd6798",
   "metadata": {},
   "outputs": [
    {
     "name": "stdout",
     "output_type": "stream",
     "text": [
      "The mean square error of price and predicted value using multifit is:  11980366.87072649\n"
     ]
    }
   ],
   "source": [
    "print('The mean square error of price and predicted value using multifit is: ', \\\n",
    "      mean_squared_error(df['price'], Y_predict_multifit))"
   ]
  },
  {
   "cell_type": "markdown",
   "id": "0325d07a",
   "metadata": {},
   "source": [
    "**Model 3: Polynomial Fit**"
   ]
  },
  {
   "cell_type": "markdown",
   "id": "0da5bc15",
   "metadata": {},
   "source": [
    "Let's calculate the R^2."
   ]
  },
  {
   "cell_type": "markdown",
   "id": "81563a1a",
   "metadata": {},
   "source": [
    "Let’s import the function r2_score from the module metrics as we are using a different function."
   ]
  },
  {
   "cell_type": "code",
   "execution_count": 77,
   "id": "df2a6886",
   "metadata": {},
   "outputs": [],
   "source": [
    "from sklearn.metrics import r2_score"
   ]
  },
  {
   "cell_type": "markdown",
   "id": "18c909a7",
   "metadata": {},
   "source": [
    "We apply the function to get the value of R^2:"
   ]
  },
  {
   "cell_type": "code",
   "execution_count": 78,
   "id": "48a69316",
   "metadata": {},
   "outputs": [
    {
     "name": "stdout",
     "output_type": "stream",
     "text": [
      "The R-square value is:  0.702376909204032\n"
     ]
    }
   ],
   "source": [
    "r_squared = r2_score(y, p(x))\n",
    "print('The R-square value is: ', r_squared)"
   ]
  },
  {
   "cell_type": "markdown",
   "id": "793d6c06",
   "metadata": {},
   "source": [
    "We can say that ~67.419 % of the variation of price is explained by this polynomial fit."
   ]
  },
  {
   "cell_type": "markdown",
   "id": "8aee341b",
   "metadata": {},
   "source": [
    "# MSE"
   ]
  },
  {
   "cell_type": "markdown",
   "id": "77b0cf21",
   "metadata": {},
   "source": [
    "\n",
    "We can also calculate the MSE:"
   ]
  },
  {
   "cell_type": "code",
   "execution_count": 79,
   "id": "cdf0c186",
   "metadata": {},
   "outputs": [
    {
     "data": {
      "text/plain": [
       "18703127.64164033"
      ]
     },
     "execution_count": 79,
     "metadata": {},
     "output_type": "execute_result"
    }
   ],
   "source": [
    "mean_squared_error(df['price'], p(x))"
   ]
  },
  {
   "cell_type": "markdown",
   "id": "13ca113d",
   "metadata": {},
   "source": [
    "# 5. Prediction and Decision Making"
   ]
  },
  {
   "cell_type": "markdown",
   "id": "03ac4453",
   "metadata": {},
   "source": [
    "**Prediction**"
   ]
  },
  {
   "cell_type": "markdown",
   "id": "1a843d18",
   "metadata": {},
   "source": [
    "In the previous section, we trained the model using the method **fit**. Now we will use the method predict to produce a **prediction**. Lets import **pyplot** for plotting; we will also be using some functions from numpy."
   ]
  },
  {
   "cell_type": "code",
   "execution_count": 80,
   "id": "37b3f1e4",
   "metadata": {},
   "outputs": [],
   "source": [
    "import matplotlib.pyplot as plt\n",
    "import numpy as np\n",
    "\n",
    "%matplotlib inline "
   ]
  },
  {
   "cell_type": "markdown",
   "id": "61bbbf66",
   "metadata": {},
   "source": [
    "Create a new input:"
   ]
  },
  {
   "cell_type": "code",
   "execution_count": 81,
   "id": "7871871c",
   "metadata": {},
   "outputs": [],
   "source": [
    "new_input=np.arange(1, 100, 1).reshape(-1, 1)"
   ]
  },
  {
   "cell_type": "markdown",
   "id": "6d247be3",
   "metadata": {},
   "source": [
    "Fit the model:"
   ]
  },
  {
   "cell_type": "code",
   "execution_count": 82,
   "id": "da609561",
   "metadata": {},
   "outputs": [
    {
     "data": {
      "text/plain": [
       "LinearRegression()"
      ]
     },
     "execution_count": 82,
     "metadata": {},
     "output_type": "execute_result"
    }
   ],
   "source": [
    "lm.fit(X, Y)\n",
    "lm"
   ]
  },
  {
   "cell_type": "markdown",
   "id": "91c049ec",
   "metadata": {},
   "source": [
    "Produce a prediction:"
   ]
  },
  {
   "cell_type": "code",
   "execution_count": 83,
   "id": "af0e063a",
   "metadata": {},
   "outputs": [
    {
     "name": "stderr",
     "output_type": "stream",
     "text": [
      "C:\\Users\\user\\anaconda3\\lib\\site-packages\\sklearn\\base.py:450: UserWarning: X does not have valid feature names, but LinearRegression was fitted with feature names\n",
      "  warnings.warn(\n"
     ]
    },
    {
     "data": {
      "text/plain": [
       "array([-7796.47889059, -7629.6188749 , -7462.75885921, -7295.89884352,\n",
       "       -7129.03882782])"
      ]
     },
     "execution_count": 83,
     "metadata": {},
     "output_type": "execute_result"
    }
   ],
   "source": [
    "yhat=lm.predict(new_input)\n",
    "yhat[0:5]"
   ]
  },
  {
   "cell_type": "markdown",
   "id": "f9869742",
   "metadata": {},
   "source": [
    "We can plot the data:"
   ]
  },
  {
   "cell_type": "code",
   "execution_count": 84,
   "id": "3aaea65f",
   "metadata": {},
   "outputs": [
    {
     "data": {
      "image/png": "[encoded data removed]",
      "text/plain": [
       "<Figure size 432x288 with 1 Axes>"
      ]
     },
     "metadata": {
      "needs_background": "light"
     },
     "output_type": "display_data"
    }
   ],
   "source": [
    "plt.plot(new_input, yhat)\n",
    "plt.show()"
   ]
  },
  {
   "cell_type": "markdown",
   "id": "3605be7b",
   "metadata": {},
   "source": [
    "# Decision Making: Determining a Good Model Fit"
   ]
  },
  {
   "cell_type": "code",
   "execution_count": null,
   "id": "11546d11",
   "metadata": {},
   "outputs": [],
   "source": [
    "Now that we have visualized the different models, and generated the R-squared and MSE values for the fits, how do we determine a good model fit?\n",
    "\n",
    "What is a good R-squared value?\n",
    "\n",
    "When comparing models, the model with the higher R-squared value is a better fit for the data.\n",
    "\n",
    "What is a good MSE?\n",
    "When comparing models, the model with the smallest MSE value is a better fit for the data.\n",
    "\n",
    "Let's take a look at the values for the different models.\n",
    "Simple Linear Regression: Using Highway-mpg as a Predictor Variable of Price.\n",
    "\n",
    "R-squared: 0.49659118843391759\n",
    "MSE: 3.16 x10^7\n",
    "Multiple Linear Regression: Using Horsepower, Curb-weight, Engine-size, and Highway-mpg as Predictor Variables of Price.\n",
    "\n",
    "R-squared: 0.80896354913783497\n",
    "MSE: 1.2 x10^7\n",
    "Polynomial Fit: Using Highway-mpg as a Predictor Variable of Price.\n",
    "\n",
    "R-squared: 0.6741946663906514\n",
    "MSE: 2.05 x 10^7"
   ]
  },
  {
   "cell_type": "markdown",
   "id": "bccd9e52",
   "metadata": {},
   "source": [
    "# Simple Linear Regression Model (SLR) vs Multiple Linear Regression Model (MLR)"
   ]
  },
  {
   "cell_type": "markdown",
   "id": "d6a67ecb",
   "metadata": {},
   "source": [
    "Usually, the more variables you have, the better your model is at predicting, but this is not always true. Sometimes you may not have enough data, you may run into numerical problems, or many of the variables may not be useful and even act as noise. As a result, you should always check the MSE and R^2.\n",
    "\n",
    "In order to compare the results of the MLR vs SLR models, we look at a combination of both the R-squared and MSE to make the best conclusion about the fit of the model.\n",
    "\n",
    "**MSE:** The MSE of SLR is 3.16x10^7 while MLR has an MSE of 1.2 x10^7. The MSE of MLR is much smaller.\n",
    "    \n",
    "**R-squared:** In this case, we can also see that there is a big difference between the R-squared of the SLR and the R-squared of the MLR. The R-squared for the SLR (~0.497) is very small compared to the R-squared for the MLR (~0.809).\n",
    "\n",
    "This R-squared in combination with the MSE show that MLR seems like the better model fit in this case compared to SLR."
   ]
  },
  {
   "cell_type": "markdown",
   "id": "0da70a52",
   "metadata": {},
   "source": [
    "# Simple Linear Model (SLR) vs. Polynomial Fit¶"
   ]
  },
  {
   "cell_type": "markdown",
   "id": "b2131907",
   "metadata": {},
   "source": [
    "**MSE:** We can see that Polynomial Fit brought down the MSE, since this MSE is smaller than the one from the SLR.\n",
    "\n",
    "**R-squared:** The R-squared for the Polynomial Fit is larger than the R-squared for the SLR, so the Polynomial Fit also brought up the R-squared quite a bit.\n",
    "Since the Polynomial Fit resulted in a lower MSE and a higher R-squared, we can conclude that this was a better fit model than the simple linear regression for predicting \"price\" with \"highway-mpg\" as a predictor variable."
   ]
  },
  {
   "cell_type": "markdown",
   "id": "960b4cf9",
   "metadata": {},
   "source": [
    "# Multiple Linear Regression (MLR) vs. Polynomial Fit"
   ]
  },
  {
   "cell_type": "markdown",
   "id": "0d2f6dca",
   "metadata": {},
   "source": [
    "**MSE:** The MSE for the MLR is smaller than the MSE for the Polynomial Fit.\n",
    "    \n",
    "**R-squared:** The R-squared for the MLR is also much larger than for the Polynomial Fit."
   ]
  },
  {
   "cell_type": "markdown",
   "id": "0801aea7",
   "metadata": {},
   "source": [
    "# Conclusion"
   ]
  },
  {
   "cell_type": "markdown",
   "id": "5a374110",
   "metadata": {},
   "source": [
    "\n",
    "Comparing these three models, we conclude that the MLR model is the best model to be able to predict price from our dataset. This result makes sense since we have 27 variables in total and we know that more than one of those variables are potential predictors of the final car price.\n",
    "\n",
    " "
   ]
  },
  {
   "cell_type": "markdown",
   "id": "562e3900",
   "metadata": {},
   "source": [
    "Thank you"
   ]
  }
 ],
 "metadata": {
  "kernelspec": {
   "display_name": "Python 3 (ipykernel)",
   "language": "python",
   "name": "python3"
  },
  "language_info": {
   "codemirror_mode": {
    "name": "ipython",
    "version": 3
   },
   "file_extension": ".py",
   "mimetype": "text/x-python",
   "name": "python",
   "nbconvert_exporter": "python",
   "pygments_lexer": "ipython3",
   "version": "3.9.12"
  }
 },
 "nbformat": 4,
 "nbformat_minor": 5
}
