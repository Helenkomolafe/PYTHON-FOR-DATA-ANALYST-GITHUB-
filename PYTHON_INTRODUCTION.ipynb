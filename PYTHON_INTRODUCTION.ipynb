{
 "cells": [
  {
   "cell_type": "markdown",
   "id": "fa9c112e",
   "metadata": {},
   "source": [
    "# **IMPORT DATA SET** "
   ]
  },
  {
   "cell_type": "markdown",
   "id": "3e1705b0",
   "metadata": {},
   "source": [
    "### **Objectives** \n",
    "\n",
    " *Acquire data in various ways\n",
    " \n",
    " *Obtain insights from data with Pandas library\n"
   ]
  },
  {
   "cell_type": "markdown",
   "id": "2a90e317",
   "metadata": {},
   "source": [
    "**Table of Contents**\n",
    "\n",
    "-Data Acquisition\n",
    "\n",
    "-Basic Insights from the Data set"
   ]
  },
  {
   "cell_type": "markdown",
   "id": "c4fab852",
   "metadata": {},
   "source": [
    "**Data Acquisition**\n",
    "\n",
    "A data set is typically a file containing data stored in one of several formats. Common file formats containing data sets include: .csv, .json, .xlsx etc. The data set can be stored in different places, on your local machine, on a server or a websiite, cloud storage and so on.\n",
    "To analyse data in a Python notebook, we need to bring the data set into the notebook. In this section, you will learn how to load a data set into our Jupyter Notebook.\n",
    "\n",
    "In our case, the Automobile Data set is an online source, and it is in a CSV (comma separated value) format. Let's use this data set as an example to practice reading data.\n",
    "\n",
    " -Data source: https://archive.ics.uci.edu/ml/machine-learning-databases/autos/imports-85.data\n",
    "            \n",
    " -Data type: csv\n",
    "    \n",
    "The Pandas Library is a very popular and very useful tool that enables us to read various datasets into a data frame; our Jupyter notebook platforms have a built-in Pandas Library so that all we need to do is import Pandas without installing."
   ]
  },
  {
   "cell_type": "code",
   "execution_count": 1,
   "id": "90360355",
   "metadata": {},
   "outputs": [],
   "source": [
    "import pandas as pd\n",
    "import numpy as np"
   ]
  },
  {
   "cell_type": "markdown",
   "id": "ded27b5b",
   "metadata": {},
   "source": [
    "Note: This JupyterLite requires the dataset to be downloaded to the interface. While working on the downloaded version of this notebook on their local machines and simply use the URL directly in the pandas.read_csv() function. "
   ]
  },
  {
   "cell_type": "markdown",
   "id": "d90499cd",
   "metadata": {},
   "source": [
    "The functions below will download the dataset into your browser:"
   ]
  },
  {
   "cell_type": "code",
   "execution_count": 6,
   "id": "644fdbcd",
   "metadata": {},
   "outputs": [],
   "source": [
    "filepath = \"https://cf-courses-data.s3.us.cloud-object-storage.appdomain.cloud/IBMDeveloperSkillsNetwork-DA0101EN-Coursera/laptop_pricing_dataset_base.csv\"\n",
    "df = pd.read_csv(filepath, header=None)"
   ]
  },
  {
   "cell_type": "markdown",
   "id": "678bad42",
   "metadata": {},
   "source": [
    "Task #1: \n",
    "Load the dataset to a pandas dataframe named 'df'\n",
    "Print the first 5 entries of the dataset to confirm loading."
   ]
  },
  {
   "cell_type": "code",
   "execution_count": 8,
   "id": "065cdc69",
   "metadata": {},
   "outputs": [
    {
     "name": "stdout",
     "output_type": "stream",
     "text": [
      "     0   1          2   3   4   5       6    7   8    9     10    11\n",
      "0  Acer   4  IPS Panel   2   1   5   35.56  1.6   8  256   1.6   978\n",
      "1  Dell   3    Full HD   1   1   3  39.624  2.0   4  256   2.2   634\n",
      "2  Dell   3    Full HD   1   1   7  39.624  2.7   8  256   2.2   946\n",
      "3  Dell   4  IPS Panel   2   1   5  33.782  1.6   8  128  1.22  1244\n",
      "4    HP   4    Full HD   2   1   7  39.624  1.8   8  256  1.91   837\n"
     ]
    }
   ],
   "source": [
    "df = pd.read_csv(\"https://cf-courses-data.s3.us.cloud-object-storage.appdomain.cloud/IBMDeveloperSkillsNetwork-DA0101EN-Coursera/laptop_pricing_dataset_base.csv\", header=None)\n",
    "print(df.head())"
   ]
  },
  {
   "cell_type": "markdown",
   "id": "1c487eba",
   "metadata": {},
   "source": [
    "### Add Headers\n",
    "\n",
    "Take a look at the data set. Pandas automatically set the header with an integer starting from 0.\n",
    "\n",
    "To better describe the data, you can introduce a header. This information is available at: https://archive.ics.uci.edu/ml/datasets/Automobile.\n",
    "\n",
    "Thus, you have to add headers manually.\n",
    "\n",
    "First, create a list \"headers\" that include all column names in order. Then, use dataframe.columns = headers to replace the headers with the list you created."
   ]
  },
  {
   "cell_type": "markdown",
   "id": "6c6487b7",
   "metadata": {},
   "source": [
    "Task #2: \n",
    "Add headers to the dataframe\n",
    "The headers for the dataset, in sequence, are \"Manufacturer\", \"Category\", \"Screen\", \"GPU\", \"OS\", \"CPU_core\", \"Screen_Size_inch\", \"CPU_frequency\", \"RAM_GB\", \"Storage_GB_SSD\", \"Weight_kg\" and \"Price\".\n",
    "Confirm insertion by printing the first 10 rows of the dataset."
   ]
  },
  {
   "cell_type": "code",
   "execution_count": 9,
   "id": "736a1f9e",
   "metadata": {},
   "outputs": [
    {
     "name": "stdout",
     "output_type": "stream",
     "text": [
      "  Manufacturer  Category     Screen  GPU  OS  CPU_core Screen_Size_inch  \\\n",
      "0         Acer         4  IPS Panel    2   1         5            35.56   \n",
      "1         Dell         3    Full HD    1   1         3           39.624   \n",
      "2         Dell         3    Full HD    1   1         7           39.624   \n",
      "3         Dell         4  IPS Panel    2   1         5           33.782   \n",
      "4           HP         4    Full HD    2   1         7           39.624   \n",
      "5         Dell         3    Full HD    1   1         5           39.624   \n",
      "6           HP         3    Full HD    3   1         5           39.624   \n",
      "7         Acer         3  IPS Panel    2   1         5             38.1   \n",
      "8         Dell         3    Full HD    1   1         5           39.624   \n",
      "9         Acer         3  IPS Panel    3   1         7             38.1   \n",
      "\n",
      "   CPU_frequency  RAM_GB  Storage_GB_SSD Weight_kg  Price  \n",
      "0            1.6       8             256       1.6    978  \n",
      "1            2.0       4             256       2.2    634  \n",
      "2            2.7       8             256       2.2    946  \n",
      "3            1.6       8             128      1.22   1244  \n",
      "4            1.8       8             256      1.91    837  \n",
      "5            1.6       8             256       2.2   1016  \n",
      "6            1.6       8             256       2.1   1117  \n",
      "7            1.6       4             256       2.2    866  \n",
      "8            2.5       4             256       2.3    812  \n",
      "9            1.8       8             256       2.2   1068  \n"
     ]
    }
   ],
   "source": [
    "headers = [\"Manufacturer\", \"Category\", \"Screen\", \"GPU\", \"OS\", \"CPU_core\", \"Screen_Size_inch\", \"CPU_frequency\", \"RAM_GB\", \"Storage_GB_SSD\", \"Weight_kg\", \"Price\"]\n",
    "df.columns = headers\n",
    "print(df.head(10))"
   ]
  },
  {
   "cell_type": "markdown",
   "id": "d579a167",
   "metadata": {},
   "source": [
    "## Task 3:\n",
    "\n",
    "Replace '?' with 'NaN'\n",
    "\n",
    "Replace the '?' entries in the dataset with NaN value, recevied from the Numpy package."
   ]
  },
  {
   "cell_type": "code",
   "execution_count": 10,
   "id": "5a7e6b18",
   "metadata": {},
   "outputs": [],
   "source": [
    "df.replace('?',np.nan, inplace = True)"
   ]
  },
  {
   "cell_type": "markdown",
   "id": "cc9c7510",
   "metadata": {},
   "source": [
    "## Save Dataset\n",
    "\n",
    "Correspondingly, Pandas enables you to save the data set to CSV. By using the dataframe.to_csv() method, you can add the file path and name along with quotation marks in the brackets.\n",
    "\n",
    "For example, if you save the data frame df as automobile.csv to your local machine, you may use the syntax below, where index = False means the row names will not be written.\n",
    "\n",
    "df.to_csv(\"automobile.csv\", index=False)"
   ]
  },
  {
   "cell_type": "code",
   "execution_count": null,
   "id": "250ddfec",
   "metadata": {},
   "outputs": [],
   "source": [
    "df.to_csv(\"automobile.csv\", index=False)"
   ]
  },
  {
   "cell_type": "markdown",
   "id": "dc957712",
   "metadata": {},
   "source": [
    "You can also read and save other file formats. You can use similar functions like **pd.read_csv() and df.to_csv()** for other data formats. The functions are listed in the following table:"
   ]
  },
  {
   "cell_type": "markdown",
   "id": "68484673",
   "metadata": {},
   "source": [
    "# Read/Save Other Data Formats\n",
    "                                                                Data Formate\tRead\t     Save\n",
    "                                                                csv\t        pd.read_csv()\t df.to_csv()\n",
    "                                                                json\t    pd.read_json()\t df.to_json()\n",
    "                                                                excel\t    pd.read_excel()\t df.to_excel()\n",
    "                                                                hdf\t        pd.read_hdf()\t df.to_hdf()\n",
    "                                                                sql\t        pd.read_sql()\t df.to_sql()\n",
    "                                                                            \n"
   ]
  },
  {
   "cell_type": "markdown",
   "id": "1f667a80",
   "metadata": {},
   "source": [
    "## Data Types\n",
    "\n",
    "Data has a variety of types.\n",
    "\n",
    "The main types stored in Pandas data frames are object, float, int, bool and datetime64. In order to better learn about each attribute, you should always know the data type of each column. In Pandas:"
   ]
  },
  {
   "cell_type": "markdown",
   "id": "d943e7a3",
   "metadata": {},
   "source": [
    "## Task 4: \n",
    "\n",
    "Print the data types of the dataframe columns\n",
    "Make a note of the data types of the different columns of the dataset."
   ]
  },
  {
   "cell_type": "code",
   "execution_count": 11,
   "id": "ba62debe",
   "metadata": {},
   "outputs": [
    {
     "name": "stdout",
     "output_type": "stream",
     "text": [
      "Manufacturer         object\n",
      "Category              int64\n",
      "Screen               object\n",
      "GPU                   int64\n",
      "OS                    int64\n",
      "CPU_core              int64\n",
      "Screen_Size_inch     object\n",
      "CPU_frequency       float64\n",
      "RAM_GB                int64\n",
      "Storage_GB_SSD        int64\n",
      "Weight_kg            object\n",
      "Price                 int64\n",
      "dtype: object\n"
     ]
    }
   ],
   "source": [
    "print(df.dtypes)"
   ]
  },
  {
   "cell_type": "markdown",
   "id": "b07532b4",
   "metadata": {},
   "source": [
    "## Describe\n",
    "\n",
    "A statistical summary of each column such as count, column mean value, column standard deviation, etc., use the describe method:"
   ]
  },
  {
   "cell_type": "markdown",
   "id": "26b5fa6d",
   "metadata": {},
   "source": [
    "## Task 5:  \n",
    "\n",
    "Print the statistical description of the dataseta ., use the describe method:"
   ]
  },
  {
   "cell_type": "code",
   "execution_count": 12,
   "id": "bb1dee1a",
   "metadata": {},
   "outputs": [
    {
     "name": "stdout",
     "output_type": "stream",
     "text": [
      "       Manufacturer    Category   Screen         GPU          OS    CPU_core  \\\n",
      "count           238  238.000000      238  238.000000  238.000000  238.000000   \n",
      "unique           11         NaN        2         NaN         NaN         NaN   \n",
      "top            Dell         NaN  Full HD         NaN         NaN         NaN   \n",
      "freq             71         NaN      161         NaN         NaN         NaN   \n",
      "mean            NaN    3.205882      NaN    2.151261    1.058824    5.630252   \n",
      "std             NaN    0.776533      NaN    0.638282    0.235790    1.241787   \n",
      "min             NaN    1.000000      NaN    1.000000    1.000000    3.000000   \n",
      "25%             NaN    3.000000      NaN    2.000000    1.000000    5.000000   \n",
      "50%             NaN    3.000000      NaN    2.000000    1.000000    5.000000   \n",
      "75%             NaN    4.000000      NaN    3.000000    1.000000    7.000000   \n",
      "max             NaN    5.000000      NaN    3.000000    2.000000    7.000000   \n",
      "\n",
      "       Screen_Size_inch  CPU_frequency      RAM_GB  Storage_GB_SSD Weight_kg  \\\n",
      "count               234     238.000000  238.000000      238.000000       233   \n",
      "unique                9            NaN         NaN             NaN        77   \n",
      "top              39.624            NaN         NaN             NaN       2.2   \n",
      "freq                 89            NaN         NaN             NaN        21   \n",
      "mean                NaN       2.360084    7.882353      245.781513       NaN   \n",
      "std                 NaN       0.411393    2.482603       34.765316       NaN   \n",
      "min                 NaN       1.200000    4.000000      128.000000       NaN   \n",
      "25%                 NaN       2.000000    8.000000      256.000000       NaN   \n",
      "50%                 NaN       2.500000    8.000000      256.000000       NaN   \n",
      "75%                 NaN       2.700000    8.000000      256.000000       NaN   \n",
      "max                 NaN       2.900000   16.000000      256.000000       NaN   \n",
      "\n",
      "              Price  \n",
      "count    238.000000  \n",
      "unique          NaN  \n",
      "top             NaN  \n",
      "freq            NaN  \n",
      "mean    1462.344538  \n",
      "std      574.607699  \n",
      "min      527.000000  \n",
      "25%     1066.500000  \n",
      "50%     1333.000000  \n",
      "75%     1777.000000  \n",
      "max     3810.000000  \n"
     ]
    }
   ],
   "source": [
    "print(df.describe(include='all'))"
   ]
  },
  {
   "cell_type": "markdown",
   "id": "d92d950b",
   "metadata": {},
   "source": [
    "# Task 6:\n",
    "\n",
    "Print the summary information of the dataset.¶"
   ]
  },
  {
   "cell_type": "code",
   "execution_count": 13,
   "id": "4d75b99d",
   "metadata": {},
   "outputs": [
    {
     "name": "stdout",
     "output_type": "stream",
     "text": [
      "<class 'pandas.core.frame.DataFrame'>\n",
      "RangeIndex: 238 entries, 0 to 237\n",
      "Data columns (total 12 columns):\n",
      " #   Column            Non-Null Count  Dtype  \n",
      "---  ------            --------------  -----  \n",
      " 0   Manufacturer      238 non-null    object \n",
      " 1   Category          238 non-null    int64  \n",
      " 2   Screen            238 non-null    object \n",
      " 3   GPU               238 non-null    int64  \n",
      " 4   OS                238 non-null    int64  \n",
      " 5   CPU_core          238 non-null    int64  \n",
      " 6   Screen_Size_inch  234 non-null    object \n",
      " 7   CPU_frequency     238 non-null    float64\n",
      " 8   RAM_GB            238 non-null    int64  \n",
      " 9   Storage_GB_SSD    238 non-null    int64  \n",
      " 10  Weight_kg         233 non-null    object \n",
      " 11  Price             238 non-null    int64  \n",
      "dtypes: float64(1), int64(7), object(4)\n",
      "memory usage: 22.4+ KB\n",
      "None\n"
     ]
    }
   ],
   "source": [
    "print(df.info())"
   ]
  }
 ],
 "metadata": {
  "kernelspec": {
   "display_name": "Python 3 (ipykernel)",
   "language": "python",
   "name": "python3"
  },
  "language_info": {
   "codemirror_mode": {
    "name": "ipython",
    "version": 3
   },
   "file_extension": ".py",
   "mimetype": "text/x-python",
   "name": "python",
   "nbconvert_exporter": "python",
   "pygments_lexer": "ipython3",
   "version": "3.9.12"
  }
 },
 "nbformat": 4,
 "nbformat_minor": 5
}
