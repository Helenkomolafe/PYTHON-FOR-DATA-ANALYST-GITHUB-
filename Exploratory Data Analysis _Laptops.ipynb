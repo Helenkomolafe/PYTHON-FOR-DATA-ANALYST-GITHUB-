{
 "cells": [
  {
   "cell_type": "markdown",
   "id": "af50e1d0",
   "metadata": {},
   "source": [
    "#  Exploratory Data Analysis - Laptops Pricing dataset"
   ]
  },
  {
   "cell_type": "markdown",
   "id": "a368aa2a",
   "metadata": {},
   "source": [
    "# Objectives:\n",
    "\n",
    "    -Visualize individual feature patterns\n",
    "    -Run descriptive statistical analysis on the dataset\n",
    "    -Use groups and pivot tables to find the effect of categorical variables on price\n",
    "    -Use Pearson Correlation to measure the interdependence between variables"
   ]
  },
  {
   "cell_type": "markdown",
   "id": "0efdfa09",
   "metadata": {},
   "source": [
    "# Setup:\n",
    "\n",
    "    -skillsnetwork for downloading the data\n",
    "    -pandas for managing the data.\n",
    "    -numpy for mathematical operations.\n",
    "    -scipy for statistical operations.\n",
    "    -seaborn for visualizing the data.\n",
    "    -matplotlib for additional plotting tools."
   ]
  },
  {
   "cell_type": "markdown",
   "id": "31383c00",
   "metadata": {},
   "source": [
    "# Install Required Libraries\n",
    "\n",
    "You can install the required libraries by simply running the pip install command with a % sign before it. For this environment, seaborn library requires installation."
   ]
  },
  {
   "cell_type": "markdown",
   "id": "ed0ce5fe",
   "metadata": {},
   "source": [
    "import piplite\n",
    "await piplite.install('seaborn')"
   ]
  },
  {
   "cell_type": "markdown",
   "id": "ede9419f",
   "metadata": {},
   "source": [
    "**Importing Required Libraries**\n",
    "\n",
    "We recommend you import all required libraries in one place (here):"
   ]
  },
  {
   "cell_type": "code",
   "execution_count": 2,
   "id": "2877ae87",
   "metadata": {},
   "outputs": [],
   "source": [
    "import numpy as np\n",
    "import pandas as pd\n",
    "import matplotlib.pyplot as plt\n",
    "import seaborn as sns\n",
    "from scipy import stats\n",
    "%matplotlib inline"
   ]
  },
  {
   "cell_type": "markdown",
   "id": "580ce433",
   "metadata": {},
   "source": [
    "# Import the dataset\n",
    "\n",
    "You should download the modified version of the data set from the last module. Run the following code block to download the CSV file to this environment.\n",
    "\n",
    "The functions below will download the dataset into your browser:"
   ]
  },
  {
   "cell_type": "code",
   "execution_count": 3,
   "id": "505468a5",
   "metadata": {},
   "outputs": [],
   "source": [
    "filepath=\"https://cf-courses-data.s3.us.cloud-object-storage.appdomain.cloud/IBMDeveloperSkillsNetwork-DA0101EN-Coursera/laptop_pricing_dataset_mod2.csv\"\n",
    "df = pd.read_csv(filepath, header=None)"
   ]
  },
  {
   "cell_type": "markdown",
   "id": "92332f90",
   "metadata": {},
   "source": [
    "Import the file to a pandas dataframe."
   ]
  },
  {
   "cell_type": "code",
   "execution_count": 5,
   "id": "13dc643d",
   "metadata": {},
   "outputs": [],
   "source": [
    "df = pd.read_csv(filepath, header=0)"
   ]
  },
  {
   "cell_type": "markdown",
   "id": "cfa34512",
   "metadata": {},
   "source": [
    "Print the first 5 entries of the dataset to confirm loading."
   ]
  },
  {
   "cell_type": "code",
   "execution_count": 6,
   "id": "e2245410",
   "metadata": {},
   "outputs": [
    {
     "data": {
      "text/html": [
       "<div>\n",
       "<style scoped>\n",
       "    .dataframe tbody tr th:only-of-type {\n",
       "        vertical-align: middle;\n",
       "    }\n",
       "\n",
       "    .dataframe tbody tr th {\n",
       "        vertical-align: top;\n",
       "    }\n",
       "\n",
       "    .dataframe thead th {\n",
       "        text-align: right;\n",
       "    }\n",
       "</style>\n",
       "<table border=\"1\" class=\"dataframe\">\n",
       "  <thead>\n",
       "    <tr style=\"text-align: right;\">\n",
       "      <th></th>\n",
       "      <th>Unnamed: 0</th>\n",
       "      <th>Unnamed: 0.1</th>\n",
       "      <th>Manufacturer</th>\n",
       "      <th>Category</th>\n",
       "      <th>GPU</th>\n",
       "      <th>OS</th>\n",
       "      <th>CPU_core</th>\n",
       "      <th>Screen_Size_inch</th>\n",
       "      <th>CPU_frequency</th>\n",
       "      <th>RAM_GB</th>\n",
       "      <th>Storage_GB_SSD</th>\n",
       "      <th>Weight_pounds</th>\n",
       "      <th>Price</th>\n",
       "      <th>Price-binned</th>\n",
       "      <th>Screen-Full_HD</th>\n",
       "      <th>Screen-IPS_panel</th>\n",
       "    </tr>\n",
       "  </thead>\n",
       "  <tbody>\n",
       "    <tr>\n",
       "      <th>0</th>\n",
       "      <td>0</td>\n",
       "      <td>0</td>\n",
       "      <td>Acer</td>\n",
       "      <td>4</td>\n",
       "      <td>2</td>\n",
       "      <td>1</td>\n",
       "      <td>5</td>\n",
       "      <td>14.0</td>\n",
       "      <td>0.551724</td>\n",
       "      <td>8</td>\n",
       "      <td>256</td>\n",
       "      <td>3.52800</td>\n",
       "      <td>978</td>\n",
       "      <td>Low</td>\n",
       "      <td>0</td>\n",
       "      <td>1</td>\n",
       "    </tr>\n",
       "    <tr>\n",
       "      <th>1</th>\n",
       "      <td>1</td>\n",
       "      <td>1</td>\n",
       "      <td>Dell</td>\n",
       "      <td>3</td>\n",
       "      <td>1</td>\n",
       "      <td>1</td>\n",
       "      <td>3</td>\n",
       "      <td>15.6</td>\n",
       "      <td>0.689655</td>\n",
       "      <td>4</td>\n",
       "      <td>256</td>\n",
       "      <td>4.85100</td>\n",
       "      <td>634</td>\n",
       "      <td>Low</td>\n",
       "      <td>1</td>\n",
       "      <td>0</td>\n",
       "    </tr>\n",
       "    <tr>\n",
       "      <th>2</th>\n",
       "      <td>2</td>\n",
       "      <td>2</td>\n",
       "      <td>Dell</td>\n",
       "      <td>3</td>\n",
       "      <td>1</td>\n",
       "      <td>1</td>\n",
       "      <td>7</td>\n",
       "      <td>15.6</td>\n",
       "      <td>0.931034</td>\n",
       "      <td>8</td>\n",
       "      <td>256</td>\n",
       "      <td>4.85100</td>\n",
       "      <td>946</td>\n",
       "      <td>Low</td>\n",
       "      <td>1</td>\n",
       "      <td>0</td>\n",
       "    </tr>\n",
       "    <tr>\n",
       "      <th>3</th>\n",
       "      <td>3</td>\n",
       "      <td>3</td>\n",
       "      <td>Dell</td>\n",
       "      <td>4</td>\n",
       "      <td>2</td>\n",
       "      <td>1</td>\n",
       "      <td>5</td>\n",
       "      <td>13.3</td>\n",
       "      <td>0.551724</td>\n",
       "      <td>8</td>\n",
       "      <td>128</td>\n",
       "      <td>2.69010</td>\n",
       "      <td>1244</td>\n",
       "      <td>Low</td>\n",
       "      <td>0</td>\n",
       "      <td>1</td>\n",
       "    </tr>\n",
       "    <tr>\n",
       "      <th>4</th>\n",
       "      <td>4</td>\n",
       "      <td>4</td>\n",
       "      <td>HP</td>\n",
       "      <td>4</td>\n",
       "      <td>2</td>\n",
       "      <td>1</td>\n",
       "      <td>7</td>\n",
       "      <td>15.6</td>\n",
       "      <td>0.620690</td>\n",
       "      <td>8</td>\n",
       "      <td>256</td>\n",
       "      <td>4.21155</td>\n",
       "      <td>837</td>\n",
       "      <td>Low</td>\n",
       "      <td>1</td>\n",
       "      <td>0</td>\n",
       "    </tr>\n",
       "  </tbody>\n",
       "</table>\n",
       "</div>"
      ],
      "text/plain": [
       "   Unnamed: 0  Unnamed: 0.1 Manufacturer  Category  GPU  OS  CPU_core  \\\n",
       "0           0             0         Acer         4    2   1         5   \n",
       "1           1             1         Dell         3    1   1         3   \n",
       "2           2             2         Dell         3    1   1         7   \n",
       "3           3             3         Dell         4    2   1         5   \n",
       "4           4             4           HP         4    2   1         7   \n",
       "\n",
       "   Screen_Size_inch  CPU_frequency  RAM_GB  Storage_GB_SSD  Weight_pounds  \\\n",
       "0              14.0       0.551724       8             256        3.52800   \n",
       "1              15.6       0.689655       4             256        4.85100   \n",
       "2              15.6       0.931034       8             256        4.85100   \n",
       "3              13.3       0.551724       8             128        2.69010   \n",
       "4              15.6       0.620690       8             256        4.21155   \n",
       "\n",
       "   Price Price-binned  Screen-Full_HD  Screen-IPS_panel  \n",
       "0    978          Low               0                 1  \n",
       "1    634          Low               1                 0  \n",
       "2    946          Low               1                 0  \n",
       "3   1244          Low               0                 1  \n",
       "4    837          Low               1                 0  "
      ]
     },
     "execution_count": 6,
     "metadata": {},
     "output_type": "execute_result"
    }
   ],
   "source": [
    "df.head(5)"
   ]
  },
  {
   "cell_type": "markdown",
   "id": "79df7c5f",
   "metadata": {},
   "source": [
    "# Task 1 - Visualize individual feature patterns\n",
    "\n",
    "**Continuous valued features**\n",
    "\n",
    "Generate regression plots for each of the parameters \"CPU_frequency\", \"Screen_Size_inch\" and \"Weight_pounds\" against \"Price\". Also, print the value of correlation of each feature with \"Price\"."
   ]
  },
  {
   "cell_type": "markdown",
   "id": "582b3751",
   "metadata": {},
   "source": [
    "**CPU_frequency plot**\n"
   ]
  },
  {
   "cell_type": "code",
   "execution_count": 7,
   "id": "20e97546",
   "metadata": {},
   "outputs": [
    {
     "data": {
      "text/plain": [
       "(0.0, 3974.15)"
      ]
     },
     "execution_count": 7,
     "metadata": {},
     "output_type": "execute_result"
    },
    {
     "data": {
      "image/png": "[encoded data removed]",
      "text/plain": [
       "<Figure size 432x288 with 1 Axes>"
      ]
     },
     "metadata": {
      "needs_background": "light"
     },
     "output_type": "display_data"
    }
   ],
   "source": [
    "sns.regplot(x=\"CPU_frequency\", y=\"Price\", data=df)\n",
    "plt.ylim(0,)"
   ]
  },
  {
   "cell_type": "markdown",
   "id": "34814641",
   "metadata": {},
   "source": [
    "**Screen_Size_inch plot**\n"
   ]
  },
  {
   "cell_type": "code",
   "execution_count": 9,
   "id": "f021bbb1",
   "metadata": {},
   "outputs": [
    {
     "data": {
      "text/plain": [
       "(0.0, 3974.15)"
      ]
     },
     "execution_count": 9,
     "metadata": {},
     "output_type": "execute_result"
    },
    {
     "data": {
      "image/png": "[encoded data removed]",
      "text/plain": [
       "<Figure size 432x288 with 1 Axes>"
      ]
     },
     "metadata": {
      "needs_background": "light"
     },
     "output_type": "display_data"
    }
   ],
   "source": [
    "sns.regplot(x=\"Screen_Size_inch\", y=\"Price\", data=df)\n",
    "plt.ylim(0,)"
   ]
  },
  {
   "cell_type": "markdown",
   "id": "88824303",
   "metadata": {},
   "source": [
    "**Weight_pounds plot**"
   ]
  },
  {
   "cell_type": "code",
   "execution_count": 10,
   "id": "c4fb9ee6",
   "metadata": {},
   "outputs": [
    {
     "data": {
      "text/plain": [
       "(0.0, 3974.15)"
      ]
     },
     "execution_count": 10,
     "metadata": {},
     "output_type": "execute_result"
    },
    {
     "data": {
      "image/png": "[encoded data removed]",
      "text/plain": [
       "<Figure size 432x288 with 1 Axes>"
      ]
     },
     "metadata": {
      "needs_background": "light"
     },
     "output_type": "display_data"
    }
   ],
   "source": [
    "sns.regplot(x=\"Weight_pounds\", y=\"Price\", data=df)\n",
    "plt.ylim(0,)"
   ]
  },
  {
   "cell_type": "markdown",
   "id": "e44b89ae",
   "metadata": {},
   "source": [
    "**Correlation values of the three attributes with Price**"
   ]
  },
  {
   "cell_type": "code",
   "execution_count": 11,
   "id": "a86a4f13",
   "metadata": {},
   "outputs": [
    {
     "name": "stdout",
     "output_type": "stream",
     "text": [
      "Correlation of Price and CPU_frequency is                 CPU_frequency     Price\n",
      "CPU_frequency       1.000000  0.366666\n",
      "Price               0.366666  1.000000\n",
      "Correlation of Price and Screen_Size_inch is                    Screen_Size_inch     Price\n",
      "Screen_Size_inch          1.000000 -0.110644\n",
      "Price                    -0.110644  1.000000\n",
      "Correlation of Price and Weight_pounds is                 Weight_pounds     Price\n",
      "Weight_pounds       1.000000 -0.050312\n",
      "Price              -0.050312  1.000000\n"
     ]
    }
   ],
   "source": [
    "for param in [\"CPU_frequency\", \"Screen_Size_inch\",\"Weight_pounds\"]:\n",
    "    print(f\"Correlation of Price and {param} is \", df[[param,\"Price\"]].corr())"
   ]
  },
  {
   "cell_type": "markdown",
   "id": "3a79cfb7",
   "metadata": {},
   "source": [
    "Interpretation: \"CPU_frequency\" has a 36% positive correlation with the price of the laptops. The other two parameters have weak correlation with price.\n",
    "\n",
    "**Categorical features**\n",
    "\n",
    "Generate Box plots for the different feature that hold categorical values. These features would be \"Category\", \"GPU\", \"OS\", \"CPU_core\", \"RAM_GB\", \"Storage_GB_SSD\""
   ]
  },
  {
   "cell_type": "markdown",
   "id": "c4afa668",
   "metadata": {},
   "source": [
    "**Category Box plot**\n"
   ]
  },
  {
   "cell_type": "code",
   "execution_count": 12,
   "id": "f7a382c3",
   "metadata": {},
   "outputs": [
    {
     "data": {
      "text/plain": [
       "<AxesSubplot:xlabel='Category', ylabel='Price'>"
      ]
     },
     "execution_count": 12,
     "metadata": {},
     "output_type": "execute_result"
    },
    {
     "data": {
      "image/png": "[encoded data removed]",
      "text/plain": [
       "<Figure size 432x288 with 1 Axes>"
      ]
     },
     "metadata": {
      "needs_background": "light"
     },
     "output_type": "display_data"
    }
   ],
   "source": [
    "sns.boxplot(x=\"Category\", y=\"Price\", data=df)"
   ]
  },
  {
   "cell_type": "markdown",
   "id": "32fb09d7",
   "metadata": {},
   "source": [
    "**GPU Box plot**"
   ]
  },
  {
   "cell_type": "code",
   "execution_count": 13,
   "id": "ebe4635c",
   "metadata": {},
   "outputs": [
    {
     "data": {
      "text/plain": [
       "<AxesSubplot:xlabel='GPU', ylabel='Price'>"
      ]
     },
     "execution_count": 13,
     "metadata": {},
     "output_type": "execute_result"
    },
    {
     "data": {
      "image/png": "[encoded data removed]",
      "text/plain": [
       "<Figure size 432x288 with 1 Axes>"
      ]
     },
     "metadata": {
      "needs_background": "light"
     },
     "output_type": "display_data"
    }
   ],
   "source": [
    "sns.boxplot(x=\"GPU\", y=\"Price\", data=df)"
   ]
  },
  {
   "cell_type": "markdown",
   "id": "0db9014b",
   "metadata": {},
   "source": [
    "**OS Box plot**"
   ]
  },
  {
   "cell_type": "code",
   "execution_count": 14,
   "id": "0fb2613b",
   "metadata": {},
   "outputs": [
    {
     "data": {
      "text/plain": [
       "<AxesSubplot:xlabel='OS', ylabel='Price'>"
      ]
     },
     "execution_count": 14,
     "metadata": {},
     "output_type": "execute_result"
    },
    {
     "data": {
      "image/png": "[encoded data removed]",
      "text/plain": [
       "<Figure size 432x288 with 1 Axes>"
      ]
     },
     "metadata": {
      "needs_background": "light"
     },
     "output_type": "display_data"
    }
   ],
   "source": [
    "sns.boxplot(x=\"OS\", y=\"Price\", data=df)"
   ]
  },
  {
   "cell_type": "markdown",
   "id": "897ce379",
   "metadata": {},
   "source": [
    "**CPU_core Box plot**"
   ]
  },
  {
   "cell_type": "code",
   "execution_count": 15,
   "id": "a121a51d",
   "metadata": {},
   "outputs": [
    {
     "data": {
      "text/plain": [
       "<AxesSubplot:xlabel='CPU_core', ylabel='Price'>"
      ]
     },
     "execution_count": 15,
     "metadata": {},
     "output_type": "execute_result"
    },
    {
     "data": {
      "image/png": "[encoded data removed]",
      "text/plain": [
       "<Figure size 432x288 with 1 Axes>"
      ]
     },
     "metadata": {
      "needs_background": "light"
     },
     "output_type": "display_data"
    }
   ],
   "source": [
    "sns.boxplot(x=\"CPU_core\", y=\"Price\", data=df)"
   ]
  },
  {
   "cell_type": "markdown",
   "id": "3c89be9c",
   "metadata": {},
   "source": [
    "**RAM_GB Box plot**"
   ]
  },
  {
   "cell_type": "code",
   "execution_count": 16,
   "id": "f944f632",
   "metadata": {},
   "outputs": [
    {
     "data": {
      "text/plain": [
       "<AxesSubplot:xlabel='RAM_GB', ylabel='Price'>"
      ]
     },
     "execution_count": 16,
     "metadata": {},
     "output_type": "execute_result"
    },
    {
     "data": {
      "image/png": "[encoded data removed]",
      "text/plain": [
       "<Figure size 432x288 with 1 Axes>"
      ]
     },
     "metadata": {
      "needs_background": "light"
     },
     "output_type": "display_data"
    }
   ],
   "source": [
    "sns.boxplot(x=\"RAM_GB\", y=\"Price\", data=df)"
   ]
  },
  {
   "cell_type": "markdown",
   "id": "83b0a830",
   "metadata": {},
   "source": [
    "**Storage_GB_SSD Box plot**"
   ]
  },
  {
   "cell_type": "code",
   "execution_count": 17,
   "id": "de298908",
   "metadata": {},
   "outputs": [
    {
     "data": {
      "text/plain": [
       "<AxesSubplot:xlabel='Storage_GB_SSD', ylabel='Price'>"
      ]
     },
     "execution_count": 17,
     "metadata": {},
     "output_type": "execute_result"
    },
    {
     "data": {
      "image/png": "[encoded data removed]",
      "text/plain": [
       "<Figure size 432x288 with 1 Axes>"
      ]
     },
     "metadata": {
      "needs_background": "light"
     },
     "output_type": "display_data"
    }
   ],
   "source": [
    "sns.boxplot(x=\"Storage_GB_SSD\", y=\"Price\", data=df)"
   ]
  },
  {
   "cell_type": "markdown",
   "id": "777371cc",
   "metadata": {},
   "source": [
    "# Task 2 - Descriptive Statistical Analysis\n",
    "\n",
    "Generate the statistical description of all the features being used in the data set. Include \"object\" data types as well."
   ]
  },
  {
   "cell_type": "code",
   "execution_count": 18,
   "id": "6c167cd7",
   "metadata": {},
   "outputs": [
    {
     "name": "stdout",
     "output_type": "stream",
     "text": [
      "       Unnamed: 0  Unnamed: 0.1    Category         GPU          OS  \\\n",
      "count  238.000000    238.000000  238.000000  238.000000  238.000000   \n",
      "mean   118.500000    118.500000    3.205882    2.151261    1.058824   \n",
      "std     68.848868     68.848868    0.776533    0.638282    0.235790   \n",
      "min      0.000000      0.000000    1.000000    1.000000    1.000000   \n",
      "25%     59.250000     59.250000    3.000000    2.000000    1.000000   \n",
      "50%    118.500000    118.500000    3.000000    2.000000    1.000000   \n",
      "75%    177.750000    177.750000    4.000000    3.000000    1.000000   \n",
      "max    237.000000    237.000000    5.000000    3.000000    2.000000   \n",
      "\n",
      "         CPU_core  Screen_Size_inch  CPU_frequency      RAM_GB  \\\n",
      "count  238.000000        238.000000     238.000000  238.000000   \n",
      "mean     5.630252         14.688655       0.813822    7.882353   \n",
      "std      1.241787          1.166045       0.141860    2.482603   \n",
      "min      3.000000         12.000000       0.413793    4.000000   \n",
      "25%      5.000000         14.000000       0.689655    8.000000   \n",
      "50%      5.000000         15.000000       0.862069    8.000000   \n",
      "75%      7.000000         15.600000       0.931034    8.000000   \n",
      "max      7.000000         17.300000       1.000000   16.000000   \n",
      "\n",
      "       Storage_GB_SSD  Weight_pounds        Price  Screen-Full_HD  \\\n",
      "count      238.000000     238.000000   238.000000      238.000000   \n",
      "mean       245.781513       4.106221  1462.344538        0.676471   \n",
      "std         34.765316       1.078442   574.607699        0.468809   \n",
      "min        128.000000       1.786050   527.000000        0.000000   \n",
      "25%        256.000000       3.246863  1066.500000        0.000000   \n",
      "50%        256.000000       4.106221  1333.000000        1.000000   \n",
      "75%        256.000000       4.851000  1777.000000        1.000000   \n",
      "max        256.000000       7.938000  3810.000000        1.000000   \n",
      "\n",
      "       Screen-IPS_panel  \n",
      "count        238.000000  \n",
      "mean           0.323529  \n",
      "std            0.468809  \n",
      "min            0.000000  \n",
      "25%            0.000000  \n",
      "50%            0.000000  \n",
      "75%            1.000000  \n",
      "max            1.000000  \n",
      "       Manufacturer Price-binned\n",
      "count           238          238\n",
      "unique           11            3\n",
      "top            Dell          Low\n",
      "freq             71          160\n"
     ]
    }
   ],
   "source": [
    "print(df.describe())\n",
    "print(df.describe(include=['object']))"
   ]
  },
  {
   "cell_type": "markdown",
   "id": "d65f2eba",
   "metadata": {},
   "source": [
    "# Task 3 - GroupBy and Pivot Tables\n",
    "\n",
    "Group the parameters \"GPU\", \"CPU_core\" and \"Price\" to make a pivot table and visualize this connection using the pcolor plot."
   ]
  },
  {
   "cell_type": "markdown",
   "id": "7c9c4302",
   "metadata": {},
   "source": [
    "**Create the group**"
   ]
  },
  {
   "cell_type": "code",
   "execution_count": 19,
   "id": "e5ce3024",
   "metadata": {},
   "outputs": [
    {
     "name": "stdout",
     "output_type": "stream",
     "text": [
      "   GPU  CPU_core        Price\n",
      "0    1         3   769.250000\n",
      "1    1         5   998.500000\n",
      "2    1         7  1167.941176\n",
      "3    2         3   785.076923\n",
      "4    2         5  1462.197674\n",
      "5    2         7  1744.621622\n",
      "6    3         3   784.000000\n",
      "7    3         5  1220.680000\n",
      "8    3         7  1945.097561\n"
     ]
    }
   ],
   "source": [
    "df_gptest = df[['GPU','CPU_core','Price']]\n",
    "grouped_test1 = df_gptest.groupby(['GPU','CPU_core'],as_index=False).mean()\n",
    "print(grouped_test1)"
   ]
  },
  {
   "cell_type": "markdown",
   "id": "3aec8f94",
   "metadata": {},
   "source": [
    "**Create the Pivot table**"
   ]
  },
  {
   "cell_type": "code",
   "execution_count": 21,
   "id": "ed5a8b85",
   "metadata": {},
   "outputs": [
    {
     "name": "stdout",
     "output_type": "stream",
     "text": [
      "               Price                          \n",
      "CPU_core           3            5            7\n",
      "GPU                                           \n",
      "1         769.250000   998.500000  1167.941176\n",
      "2         785.076923  1462.197674  1744.621622\n",
      "3         784.000000  1220.680000  1945.097561\n"
     ]
    }
   ],
   "source": [
    "grouped_pivot = grouped_test1.pivot(index='GPU',columns='CPU_core')\n",
    "print(grouped_pivot)\n",
    "\n"
   ]
  },
  {
   "cell_type": "markdown",
   "id": "b4f22ad3",
   "metadata": {},
   "source": [
    "**Create the Plot**"
   ]
  },
  {
   "cell_type": "code",
   "execution_count": 22,
   "id": "dad20f84",
   "metadata": {},
   "outputs": [
    {
     "data": {
      "text/plain": [
       "<matplotlib.colorbar.Colorbar at 0x11f0ad956d0>"
      ]
     },
     "execution_count": 22,
     "metadata": {},
     "output_type": "execute_result"
    },
    {
     "data": {
      "image/png": "[encoded data removed]",
      "text/plain": [
       "<Figure size 432x288 with 2 Axes>"
      ]
     },
     "metadata": {
      "needs_background": "light"
     },
     "output_type": "display_data"
    }
   ],
   "source": [
    "fig, ax = plt.subplots()\n",
    "im = ax.pcolor(grouped_pivot, cmap='RdBu')\n",
    "\n",
    "#label names\n",
    "row_labels = grouped_pivot.columns.levels[1]\n",
    "col_labels = grouped_pivot.index\n",
    "\n",
    "#move ticks and labels to the center\n",
    "ax.set_xticks(np.arange(grouped_pivot.shape[1]) + 0.5, minor=False)\n",
    "ax.set_yticks(np.arange(grouped_pivot.shape[0]) + 0.5, minor=False)\n",
    "\n",
    "#insert labels\n",
    "ax.set_xticklabels(row_labels, minor=False)\n",
    "ax.set_yticklabels(col_labels, minor=False)\n",
    "\n",
    "fig.colorbar(im)"
   ]
  },
  {
   "cell_type": "markdown",
   "id": "91e40934",
   "metadata": {},
   "source": [
    "# Task 4 - Pearson Correlation and p-values\n",
    "\n",
    "Use the scipy.stats.pearsonr() function to evaluate the Pearson Coefficient and the p-values for each parameter tested above. This will help you determine the parameters most likely to have a strong effect on the price of the laptops."
   ]
  },
  {
   "cell_type": "code",
   "execution_count": 23,
   "id": "ec6118fc",
   "metadata": {},
   "outputs": [
    {
     "name": "stdout",
     "output_type": "stream",
     "text": [
      "RAM_GB\n",
      "The Pearson Correlation Coefficient for  RAM_GB  is 0.5492972971857844  with a P-value of P = 3.6815606288436336e-20\n",
      "CPU_frequency\n",
      "The Pearson Correlation Coefficient for  CPU_frequency  is 0.3666655589258859  with a P-value of P = 5.5024633507146616e-09\n",
      "Storage_GB_SSD\n",
      "The Pearson Correlation Coefficient for  Storage_GB_SSD  is 0.2434207552181029  with a P-value of P = 0.00014898923191727792\n",
      "Screen_Size_inch\n",
      "The Pearson Correlation Coefficient for  Screen_Size_inch  is -0.11064420817118266  with a P-value of P = 0.08853397846832801\n",
      "Weight_pounds\n",
      "The Pearson Correlation Coefficient for  Weight_pounds  is -0.05031225837751547  with a P-value of P = 0.4397693853434994\n",
      "CPU_core\n",
      "The Pearson Correlation Coefficient for  CPU_core  is 0.4593977773355115  with a P-value of P = 7.912950127011088e-14\n",
      "OS\n",
      "The Pearson Correlation Coefficient for  OS  is -0.22172980114827384  with a P-value of P = 0.0005696642559248033\n",
      "GPU\n",
      "The Pearson Correlation Coefficient for  GPU  is 0.2882981988881428  with a P-value of P = 6.166949698365852e-06\n",
      "Category\n",
      "The Pearson Correlation Coefficient for  Category  is 0.28624275581264125  with a P-value of P = 7.225696235808316e-06\n"
     ]
    }
   ],
   "source": [
    "for param in ['RAM_GB','CPU_frequency','Storage_GB_SSD','Screen_Size_inch','Weight_pounds','CPU_core','OS','GPU','Category']:\n",
    "    pearson_coef, p_value = stats.pearsonr(df[param], df['Price'])\n",
    "    print(param)\n",
    "    print(\"The Pearson Correlation Coefficient for \",param,\" is\", pearson_coef, \" with a P-value of P =\", p_value)"
   ]
  },
  {
   "cell_type": "code",
   "execution_count": null,
   "id": "3c728496",
   "metadata": {},
   "outputs": [],
   "source": []
  },
  {
   "cell_type": "markdown",
   "id": "1b778c1f",
   "metadata": {},
   "source": [
    "# Thank you"
   ]
  }
 ],
 "metadata": {
  "kernelspec": {
   "display_name": "Python 3 (ipykernel)",
   "language": "python",
   "name": "python3"
  },
  "language_info": {
   "codemirror_mode": {
    "name": "ipython",
    "version": 3
   },
   "file_extension": ".py",
   "mimetype": "text/x-python",
   "name": "python",
   "nbconvert_exporter": "python",
   "pygments_lexer": "ipython3",
   "version": "3.9.12"
  }
 },
 "nbformat": 4,
 "nbformat_minor": 5
}
